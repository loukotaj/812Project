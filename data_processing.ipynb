{
 "metadata": {
  "language_info": {
   "codemirror_mode": {
    "name": "ipython",
    "version": 3
   },
   "file_extension": ".py",
   "mimetype": "text/x-python",
   "name": "python",
   "nbconvert_exporter": "python",
   "pygments_lexer": "ipython3",
   "version": "3.7.9"
  },
  "orig_nbformat": 2,
  "kernelspec": {
   "name": "python3",
   "display_name": "Python 3.7.9 64-bit",
   "metadata": {
    "interpreter": {
     "hash": "253588e5b720c4626f0293678f453d2cf4fd73352561ef147b4f7e42d966dfd3"
    }
   }
  }
 },
 "nbformat": 4,
 "nbformat_minor": 2,
 "cells": [
  {
   "cell_type": "code",
   "execution_count": 3,
   "metadata": {},
   "outputs": [],
   "source": [
    "import pandas as pd\n",
    "import datetime\n",
    "telco_data = pd.read_excel('data.xlsx')\n",
    "telco_data = telco_data.dropna()"
   ]
  },
  {
   "cell_type": "code",
   "execution_count": 6,
   "metadata": {},
   "outputs": [
    {
     "output_type": "error",
     "ename": "AttributeError",
     "evalue": "'Series' object has no attribute 'total_seconds'",
     "traceback": [
      "\u001b[1;31m---------------------------------------------------------------------------\u001b[0m",
      "\u001b[1;31mAttributeError\u001b[0m                            Traceback (most recent call last)",
      "\u001b[1;32m<ipython-input-6-a4a3d2812f5c>\u001b[0m in \u001b[0;36m<module>\u001b[1;34m\u001b[0m\n\u001b[0;32m      1\u001b[0m \u001b[0mtelco_data_subset\u001b[0m \u001b[1;33m=\u001b[0m \u001b[0mtelco_data\u001b[0m\u001b[1;33m[\u001b[0m\u001b[1;33m[\u001b[0m\u001b[1;34m'start time'\u001b[0m\u001b[1;33m,\u001b[0m \u001b[1;34m'end time'\u001b[0m\u001b[1;33m,\u001b[0m \u001b[1;34m'location(latitude/lontitude)'\u001b[0m\u001b[1;33m]\u001b[0m\u001b[1;33m]\u001b[0m\u001b[1;33m\u001b[0m\u001b[1;33m\u001b[0m\u001b[0m\n\u001b[1;32m----> 2\u001b[1;33m \u001b[0mtelco_data_subset\u001b[0m\u001b[1;33m[\u001b[0m\u001b[1;34m'workload'\u001b[0m\u001b[1;33m]\u001b[0m \u001b[1;33m=\u001b[0m \u001b[1;33m(\u001b[0m\u001b[0mtelco_data_subset\u001b[0m\u001b[1;33m[\u001b[0m\u001b[1;34m'end time'\u001b[0m\u001b[1;33m]\u001b[0m\u001b[1;33m-\u001b[0m\u001b[0mtelco_data_subset\u001b[0m\u001b[1;33m[\u001b[0m\u001b[1;34m'start time'\u001b[0m\u001b[1;33m]\u001b[0m\u001b[1;33m)\u001b[0m\u001b[1;33m.\u001b[0m\u001b[0mtotal_seconds\u001b[0m\u001b[1;33m(\u001b[0m\u001b[1;33m)\u001b[0m\u001b[1;33m\u001b[0m\u001b[1;33m\u001b[0m\u001b[0m\n\u001b[0m\u001b[0;32m      3\u001b[0m \u001b[0mtelco_data_subset\u001b[0m \u001b[1;33m=\u001b[0m \u001b[0mtelco_data_subset\u001b[0m\u001b[1;33m[\u001b[0m\u001b[1;33m[\u001b[0m\u001b[1;34m'workload'\u001b[0m\u001b[1;33m,\u001b[0m \u001b[1;34m'location(latitude/lontitude)'\u001b[0m\u001b[1;33m]\u001b[0m\u001b[1;33m]\u001b[0m\u001b[1;33m\u001b[0m\u001b[1;33m\u001b[0m\u001b[0m\n\u001b[0;32m      4\u001b[0m \u001b[0mtelco_data_subset\u001b[0m \u001b[1;33m=\u001b[0m \u001b[0mtelco_data_subset\u001b[0m\u001b[1;33m.\u001b[0m\u001b[0mgroupby\u001b[0m\u001b[1;33m(\u001b[0m\u001b[0mby\u001b[0m \u001b[1;33m=\u001b[0m \u001b[1;33m[\u001b[0m\u001b[1;34m\"location(latitude/lontitude)\"\u001b[0m\u001b[1;33m]\u001b[0m\u001b[1;33m)\u001b[0m\u001b[1;33m.\u001b[0m\u001b[0msum\u001b[0m\u001b[1;33m(\u001b[0m\u001b[1;33m)\u001b[0m\u001b[1;33m\u001b[0m\u001b[1;33m\u001b[0m\u001b[0m\n\u001b[0;32m      5\u001b[0m \u001b[0mtelco_data_subset\u001b[0m \u001b[1;33m=\u001b[0m \u001b[0mtelco_data_subset\u001b[0m\u001b[1;33m.\u001b[0m\u001b[0mreset_index\u001b[0m\u001b[1;33m(\u001b[0m\u001b[1;33m)\u001b[0m\u001b[1;33m\u001b[0m\u001b[1;33m\u001b[0m\u001b[0m\n",
      "\u001b[1;32mc:\\users\\jfire\\appdata\\local\\programs\\python\\python37\\lib\\site-packages\\pandas\\core\\generic.py\u001b[0m in \u001b[0;36m__getattr__\u001b[1;34m(self, name)\u001b[0m\n\u001b[0;32m   5463\u001b[0m             \u001b[1;32mif\u001b[0m \u001b[0mself\u001b[0m\u001b[1;33m.\u001b[0m\u001b[0m_info_axis\u001b[0m\u001b[1;33m.\u001b[0m\u001b[0m_can_hold_identifiers_and_holds_name\u001b[0m\u001b[1;33m(\u001b[0m\u001b[0mname\u001b[0m\u001b[1;33m)\u001b[0m\u001b[1;33m:\u001b[0m\u001b[1;33m\u001b[0m\u001b[1;33m\u001b[0m\u001b[0m\n\u001b[0;32m   5464\u001b[0m                 \u001b[1;32mreturn\u001b[0m \u001b[0mself\u001b[0m\u001b[1;33m[\u001b[0m\u001b[0mname\u001b[0m\u001b[1;33m]\u001b[0m\u001b[1;33m\u001b[0m\u001b[1;33m\u001b[0m\u001b[0m\n\u001b[1;32m-> 5465\u001b[1;33m             \u001b[1;32mreturn\u001b[0m \u001b[0mobject\u001b[0m\u001b[1;33m.\u001b[0m\u001b[0m__getattribute__\u001b[0m\u001b[1;33m(\u001b[0m\u001b[0mself\u001b[0m\u001b[1;33m,\u001b[0m \u001b[0mname\u001b[0m\u001b[1;33m)\u001b[0m\u001b[1;33m\u001b[0m\u001b[1;33m\u001b[0m\u001b[0m\n\u001b[0m\u001b[0;32m   5466\u001b[0m \u001b[1;33m\u001b[0m\u001b[0m\n\u001b[0;32m   5467\u001b[0m     \u001b[1;32mdef\u001b[0m \u001b[0m__setattr__\u001b[0m\u001b[1;33m(\u001b[0m\u001b[0mself\u001b[0m\u001b[1;33m,\u001b[0m \u001b[0mname\u001b[0m\u001b[1;33m:\u001b[0m \u001b[0mstr\u001b[0m\u001b[1;33m,\u001b[0m \u001b[0mvalue\u001b[0m\u001b[1;33m)\u001b[0m \u001b[1;33m->\u001b[0m \u001b[1;32mNone\u001b[0m\u001b[1;33m:\u001b[0m\u001b[1;33m\u001b[0m\u001b[1;33m\u001b[0m\u001b[0m\n",
      "\u001b[1;31mAttributeError\u001b[0m: 'Series' object has no attribute 'total_seconds'"
     ]
    }
   ],
   "source": [
    "telco_data_subset = telco_data[['start time', 'end time', 'location(latitude/lontitude)']]\n",
    "telco_data_subset['workload'] = (telco_data_subset['end time']-telco_data_subset['start time']).dt.total_seconds()\n",
    "telco_data_subset = telco_data_subset[['workload', 'location(latitude/lontitude)']]\n",
    "telco_data_subset = telco_data_subset.groupby(by = [\"location(latitude/lontitude)\"]).sum()\n",
    "telco_data_subset = telco_data_subset.reset_index()\n",
    "telco_data_subset['location'] = [tuple([float(y) for y in x.split(\"/\")]) for x in telco_data_subset['location(latitude/lontitude)']]\n",
    "telco_data_subset = telco_data_subset[['workload', 'location']]\n"
   ]
  },
  {
   "cell_type": "code",
   "execution_count": 96,
   "metadata": {},
   "outputs": [],
   "source": [
    "telco_data_subset.to_pickle(\"prepared_telco_data.pickle\")"
   ]
  },
  {
   "cell_type": "code",
   "execution_count": 97,
   "metadata": {},
   "outputs": [
    {
     "output_type": "execute_result",
     "data": {
      "text/plain": [
       "       workload                 location\n",
       "0     1507810.0  (22.522803, 114.218796)\n",
       "1      643543.0  (24.284812, 102.999068)\n",
       "2       50378.0  (25.222206, 117.086322)\n",
       "3     3755547.0  (26.139329, 103.078562)\n",
       "4      763464.0  (26.215115, 109.744661)\n",
       "...         ...                      ...\n",
       "2764    15654.0  (41.677262, 125.960124)\n",
       "2765   106027.0  (41.835279, 123.498927)\n",
       "2766    92737.0  (46.247857, 128.762232)\n",
       "2767  1808387.0  (46.777465, 131.812182)\n",
       "2768     1949.0   (47.35092, 130.301233)\n",
       "\n",
       "[2769 rows x 2 columns]"
      ],
      "text/html": "<div>\n<style scoped>\n    .dataframe tbody tr th:only-of-type {\n        vertical-align: middle;\n    }\n\n    .dataframe tbody tr th {\n        vertical-align: top;\n    }\n\n    .dataframe thead th {\n        text-align: right;\n    }\n</style>\n<table border=\"1\" class=\"dataframe\">\n  <thead>\n    <tr style=\"text-align: right;\">\n      <th></th>\n      <th>workload</th>\n      <th>location</th>\n    </tr>\n  </thead>\n  <tbody>\n    <tr>\n      <th>0</th>\n      <td>1507810.0</td>\n      <td>(22.522803, 114.218796)</td>\n    </tr>\n    <tr>\n      <th>1</th>\n      <td>643543.0</td>\n      <td>(24.284812, 102.999068)</td>\n    </tr>\n    <tr>\n      <th>2</th>\n      <td>50378.0</td>\n      <td>(25.222206, 117.086322)</td>\n    </tr>\n    <tr>\n      <th>3</th>\n      <td>3755547.0</td>\n      <td>(26.139329, 103.078562)</td>\n    </tr>\n    <tr>\n      <th>4</th>\n      <td>763464.0</td>\n      <td>(26.215115, 109.744661)</td>\n    </tr>\n    <tr>\n      <th>...</th>\n      <td>...</td>\n      <td>...</td>\n    </tr>\n    <tr>\n      <th>2764</th>\n      <td>15654.0</td>\n      <td>(41.677262, 125.960124)</td>\n    </tr>\n    <tr>\n      <th>2765</th>\n      <td>106027.0</td>\n      <td>(41.835279, 123.498927)</td>\n    </tr>\n    <tr>\n      <th>2766</th>\n      <td>92737.0</td>\n      <td>(46.247857, 128.762232)</td>\n    </tr>\n    <tr>\n      <th>2767</th>\n      <td>1808387.0</td>\n      <td>(46.777465, 131.812182)</td>\n    </tr>\n    <tr>\n      <th>2768</th>\n      <td>1949.0</td>\n      <td>(47.35092, 130.301233)</td>\n    </tr>\n  </tbody>\n</table>\n<p>2769 rows × 2 columns</p>\n</div>"
     },
     "metadata": {},
     "execution_count": 97
    }
   ],
   "source": [
    "telco_data_subset"
   ]
  },
  {
   "cell_type": "code",
   "execution_count": null,
   "metadata": {},
   "outputs": [],
   "source": []
  }
 ]
}