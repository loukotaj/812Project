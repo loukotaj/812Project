{
 "metadata": {
  "language_info": {
   "codemirror_mode": {
    "name": "ipython",
    "version": 3
   },
   "file_extension": ".py",
   "mimetype": "text/x-python",
   "name": "python",
   "nbconvert_exporter": "python",
   "pygments_lexer": "ipython3",
   "version": "3.7.9"
  },
  "orig_nbformat": 2,
  "kernelspec": {
   "name": "python3",
   "display_name": "Python 3.7.9 64-bit",
   "metadata": {
    "interpreter": {
     "hash": "253588e5b720c4626f0293678f453d2cf4fd73352561ef147b4f7e42d966dfd3"
    }
   }
  }
 },
 "nbformat": 4,
 "nbformat_minor": 2,
 "cells": [
  {
   "cell_type": "code",
   "execution_count": 16,
   "metadata": {},
   "outputs": [],
   "source": [
    "import pandas as pd\n",
    "import datetime\n",
    "from geopy import distance\n",
    "import numpy as np\n",
    "from collections import defaultdict\n",
    "import progressbar\n",
    "import operator\n",
    "import secrets\n",
    "import random\n",
    "from tqdm import tqdm_notebook\n",
    "from matplotlib import pyplot as plt\n",
    "df = pd.read_pickle('prepared_telco_data.pickle')\n"
   ]
  },
  {
   "cell_type": "code",
   "execution_count": 17,
   "metadata": {},
   "outputs": [],
   "source": [
    "df_200 = df.sample(n=200)\n",
    "df_200 = df_200.reset_index()"
   ]
  },
  {
   "cell_type": "code",
   "execution_count": 18,
   "metadata": {},
   "outputs": [],
   "source": [
    "class Species():\n",
    "    frontier = 0\n",
    "    distance = 0 \n",
    "    servers = []\n",
    "    solution = []\n",
    "    accessDelay = 0\n",
    "    workloadBalance = 0\n",
    "    id = 0 \n",
    "    fitness = 0\n",
    "    def __init__(self,f,d,s,sol,wB,aD, id):\n",
    "        self.frontier = f\n",
    "        self.distance = d \n",
    "        self.servers = s\n",
    "        self.solution = sol\n",
    "        self.accessDelay = aD\n",
    "        self.workloadBalance = wB\n",
    "        self.id = id\n",
    "    def __repr__(self):\n",
    "        return \"Species: \" + str(self.id) + \" Frontier: \" + str(self.frontier) + \" distance: \" + str(self.distance) + \" Access Delay: \" + str(self.accessDelay) + \" Workload Balance: \" + str(self.workloadBalance) + \" Servers: \" + str(len(self.servers))"
   ]
  },
  {
   "cell_type": "code",
   "execution_count": 19,
   "metadata": {},
   "outputs": [],
   "source": [
    "def accessDelay(solution, data):\n",
    "    delay = 0\n",
    "    i = 0\n",
    "    for location in solution:\n",
    "        delay += distance.distance(data.iloc[location]['location'],data.iloc[i]['location']).km\n",
    "        i+=1\n",
    "    return delay\n",
    "def workloadBalance(solution, data):\n",
    "    servers = dict.fromkeys(solution,0)\n",
    "    for index,row in data.iterrows():\n",
    "        servers[solution[index]] +=  row['workload']\n",
    "    total = 0\n",
    "    mean = sum(servers.keys())/len(servers)\n",
    "    for key,value in servers.items():\n",
    "        total += (value - mean)**2\n",
    "    return np.sqrt(total/len(servers))\n",
    "def checkDominance(a,b, check_servers = False):\n",
    "    if check_servers:\n",
    "        if a.accessDelay < b.accessDelay and a.workloadBalance <= b.workloadBalance and len(a.servers) <= len(b.servers):\n",
    "            return True\n",
    "        if a.accessDelay <= b.accessDelay and a.workloadBalance < b.workloadBalance and len(a.servers) <= len(b.servers):\n",
    "            return True\n",
    "        if a.accessDelay <= b.accessDelay and a.workloadBalance <= b.workloadBalance and len(a.servers) < len(b.servers):\n",
    "            return True\n",
    "    else:\n",
    "        if a.accessDelay < b.accessDelay and a.workloadBalance <= b.workloadBalance:\n",
    "            return True\n",
    "        if a.accessDelay <= b.accessDelay and a.workloadBalance < b.workloadBalance:\n",
    "            return True\n",
    "    return False"
   ]
  },
  {
   "cell_type": "code",
   "execution_count": 20,
   "metadata": {},
   "outputs": [],
   "source": [
    "def naive_solution(data,servers):\n",
    "    solution = []\n",
    "    for j in range(0,len(data)):\n",
    "        best_server = 0\n",
    "        min_dist = np.inf\n",
    "        for server in servers:\n",
    "            dist = distance.distance(data.iloc[j]['location'],data.iloc[server]['location']).km\n",
    "            if dist < min_dist:\n",
    "                best_server = server\n",
    "                min_dist = dist\n",
    "        solution.append(best_server)\n",
    "    return solution\n",
    "def init_pop(data, server_count = 20, pop_size = 100, server_variance = 5):\n",
    "    pop = {}\n",
    "    for i in progressbar.progressbar(range(pop_size)):\n",
    "        if server_variance:\n",
    "            server_n = np.random.randint(server_count-server_variance, server_count + server_variance)\n",
    "        else:\n",
    "            server_n = server_count\n",
    "        servers = list(np.random.choice(range(len(data)),server_n,False))\n",
    "        solution = naive_solution(data,servers)\n",
    "        pop[i] = Species(0,0,servers,solution, workloadBalance(solution,data), accessDelay(solution,data),\"Gen 1, Species:\" + str(i))\n",
    "    return pop\n",
    "\n"
   ]
  },
  {
   "cell_type": "code",
   "execution_count": 14,
   "metadata": {},
   "outputs": [
    {
     "output_type": "error",
     "ename": "NameError",
     "evalue": "name 'df_100' is not defined",
     "traceback": [
      "\u001b[1;31m---------------------------------------------------------------------------\u001b[0m",
      "\u001b[1;31mNameError\u001b[0m                                 Traceback (most recent call last)",
      "\u001b[1;32m<ipython-input-14-1ca72bf466a3>\u001b[0m in \u001b[0;36m<module>\u001b[1;34m\u001b[0m\n\u001b[1;32m----> 1\u001b[1;33m \u001b[0mpopulation\u001b[0m \u001b[1;33m=\u001b[0m \u001b[0minit_pop\u001b[0m\u001b[1;33m(\u001b[0m\u001b[0mdf_100\u001b[0m\u001b[1;33m,\u001b[0m \u001b[0mserver_variance\u001b[0m \u001b[1;33m=\u001b[0m \u001b[1;36m0\u001b[0m\u001b[1;33m)\u001b[0m\u001b[1;33m\u001b[0m\u001b[1;33m\u001b[0m\u001b[0m\n\u001b[0m",
      "\u001b[1;31mNameError\u001b[0m: name 'df_100' is not defined"
     ]
    }
   ],
   "source": [
    "population = init_pop(df_200, server_variance = 0)"
   ]
  },
  {
   "cell_type": "code",
   "execution_count": 410,
   "metadata": {},
   "outputs": [],
   "source": [
    "def nonDominatedSort(population, check_servers = False):\n",
    "    S = {}\n",
    "    n = {}\n",
    "    F = defaultdict(list)\n",
    "    for key in population.keys():\n",
    "        S[key] = []\n",
    "        n[key] = 0\n",
    "        for key2 in population.keys():\n",
    "            if key == key2:\n",
    "                pass\n",
    "            elif checkDominance(population[key],population[key2], check_servers):\n",
    "                S[key].append(key2)\n",
    "            elif checkDominance(population[key2],population[key], check_servers):\n",
    "                n[key] += 1\n",
    "        if n[key] == 0:\n",
    "            population[key].frontier = 0  #set rank of species internally \n",
    "            F[0].append(key)\n",
    "    i = 0\n",
    "    while F[i] != []:\n",
    "        Q = []\n",
    "        for p in F[i]:\n",
    "            for q in S[p]:\n",
    "                n[q] -= 1\n",
    "                if n[q] == 0:\n",
    "                    population[q].frontier = i + 1 #set rank of species internally \n",
    "                    Q.append(q)\n",
    "        i = i + 1\n",
    "        if not Q:\n",
    "            break\n",
    "        F[i] = Q\n",
    "    return F"
   ]
  },
  {
   "cell_type": "code",
   "execution_count": 411,
   "metadata": {},
   "outputs": [],
   "source": [
    "def crowdingDistance(population, check_servers = False):\n",
    "    #set distances to 0 \n",
    "    for member in population:\n",
    "        member.distance = 0\n",
    "\n",
    "    #sort by access delay and compute distances\n",
    "    population = sorted(population, key = lambda x: x.accessDelay)\n",
    "    population[0].distance = -np.inf\n",
    "    population[-1].distance = -np.inf\n",
    "    for i in range(1,len(population)-1):\n",
    "        population[i].distance = population[i].distance - (population[i+1].accessDelay - population[i-1].accessDelay)/(population[-1].accessDelay - population[0].accessDelay)\n",
    "    \n",
    "    #sort by workload balance and compute distances\n",
    "    population = sorted(population, key = lambda x: x.workloadBalance)\n",
    "    population[0].distance = -np.inf\n",
    "    population[-1].distance = -np.inf\n",
    "    for i in range(1,len(population)-1):\n",
    "        population[i].distance = population[i].distance - (population[i+1].workloadBalance - population[i-1].workloadBalance)/(population[-1].workloadBalance - population[0].workloadBalance)\n",
    "    \n",
    "    if check_servers:\n",
    "        #sort by num servers and compute distances\n",
    "        population = sorted(population, key = lambda x: len(x.servers))\n",
    "        population[0].distance = -np.inf\n",
    "        population[-1].distance = -np.inf\n",
    "        for i in range(1,len(population)-1):\n",
    "            population[i].distance = population[i].distance - (len(population[i+1].servers) - len(population[i-1].servers))/(len(population[-1].servers) - len(population[0].servers))\n"
   ]
  },
  {
   "cell_type": "code",
   "execution_count": 412,
   "metadata": {},
   "outputs": [],
   "source": [
    "def roulette(choices):\n",
    "    choice_odds = [] \n",
    "    #get odds for each choice\n",
    "    for i in range(len(choices)):\n",
    "        choice_odds.append((2*(len(choices) - i))/(len(choices)*(len(choices)+1)))\n",
    "\n",
    "    #pick a choice\n",
    "    max = sum([x for x in choice_odds])\n",
    "    pick = np.random.uniform(0, max)\n",
    "    current = 0\n",
    "    selected_choice = 0\n",
    "    for x in choice_odds:\n",
    "        current += x\n",
    "        if current >= pick:\n",
    "            break\n",
    "        selected_choice += 1\n",
    "    return selected_choice\n",
    "def selection(population, frontiers):\n",
    "    #pick a frontier\n",
    "    selected_frontier = roulette(frontiers)\n",
    "    #get distances for each member of frontier\n",
    "    distances = []\n",
    "    for i in frontiers[selected_frontier]:\n",
    "        distances.append((population[i].distance,i))\n",
    "    distances = sorted(distances)\n",
    "\n",
    "    #pick a specific member\n",
    "    selection = roulette(distances)\n",
    "    try:\n",
    "        selected_member = distances[selection]\n",
    "    except Exception:\n",
    "        print(selection)\n",
    "        print(distances)\n",
    "    selected_member = selected_member[1]\n",
    "    return population[selected_member]\n"
   ]
  },
  {
   "cell_type": "code",
   "execution_count": 413,
   "metadata": {},
   "outputs": [],
   "source": [
    "\n",
    "def mutate(data, species, fixed_servers):\n",
    "    #to start available mutations will be one server is randomly changed\n",
    "    if fixed_servers:\n",
    "        server = np.random.choice(species.servers)\n",
    "        new_server = np.random.randint(0,len(species.solution))\n",
    "        species.servers = list(species.servers)\n",
    "        species.servers.append(new_server)\n",
    "        species.servers.remove(server)\n",
    "        species.solution = naive_solution(data,species.servers)\n",
    "        species.accessDelay = accessDelay(species.solution,data)\n",
    "        species.workloadBalance = workloadBalance(species.solution, data) \n",
    "\n",
    "def breed(data,a,b,gen,id,fixed_servers):\n",
    "    if fixed_servers:\n",
    "        server_count = len(a.servers)\n",
    "        new_servers = set(a.servers) | set(b.servers)\n",
    "        try:\n",
    "            new_servers = np.random.choice(list(new_servers), server_count, False)\n",
    "        except Exception:\n",
    "            print(a.servers)\n",
    "            print(b.servers)\n",
    "            print(new_servers)\n",
    "        new_solution = []\n",
    "        set_new_servers = set(new_servers)\n",
    "        for i in range(len(a.solution)):\n",
    "            if a.solution[i] in set_new_servers:\n",
    "                new_solution.append(a.solution[i])\n",
    "            elif b.solution[i] in set_new_servers:\n",
    "                new_solution.append(b.solution[i])\n",
    "            else:\n",
    "                best_server = 0\n",
    "                min_dist = np.inf\n",
    "                for server in new_servers:\n",
    "                    dist = distance.distance(data.iloc[i]['location'],data.iloc[server]['location']).km\n",
    "                    if dist < min_dist:\n",
    "                        best_server = server\n",
    "                        min_dist = dist\n",
    "                new_solution.append(best_server)\n",
    "        return Species(0,0,new_servers,new_solution, workloadBalance(new_solution,data), accessDelay(new_solution,data), \"Gen \" + str(gen) + \", Species:\" + str(id))\n",
    "\n",
    "def new_generation(data,population,gen, mutation_rate, fixed_servers):       \n",
    "    pop_list = sorted(population.values(), key = operator.attrgetter(\"frontier\", \"distance\"))\n",
    "    next_gen = {}\n",
    "    i = 1\n",
    "    frontiers = nonDominatedSort(population)\n",
    "    for i in tqdm_notebook(range(len(population)),leave=False, desc='Next Generation'): \n",
    "        a = selection(population,frontiers)\n",
    "        b = selection(population,frontiers)\n",
    "        new_species = breed(data,a,b,gen,i,fixed_servers)\n",
    "        n = np.random.random(1)[0]\n",
    "        if n < mutation_rate:\n",
    "            mutate(data, new_species, fixed_servers)\n",
    "        next_gen[new_species.id] = new_species\n",
    "    return next_gen"
   ]
  },
  {
   "cell_type": "code",
   "execution_count": 15,
   "metadata": {},
   "outputs": [],
   "source": [
    "def showPopulation(population):\n",
    "    ads = []\n",
    "    wbs = []\n",
    "    for key,value in population.items():\n",
    "        ads.append(value.accessDelay)\n",
    "        wbs.append(value.workloadBalance)\n",
    "    plt.xlabel(\"Access Delay\")\n",
    "    plt.ylabel(\"Workload Balance\")\n",
    "    plt.scatter(ads,wbs)\n",
    "    plt.show()\n",
    "    print(\"Average Access Delay:\" + str(sum(ads)/len(ads)))\n",
    "    print(\"Average Workload Balance:\" + str(sum(wbs)/len(wbs)))\n",
    "    print(\"Minimum Access Delay:\" + str(min(ads)))\n",
    "    print(\"Minimum Workload Balance:\" + str(min(wbs)))\n",
    "def evolution(data,population,generations = 20, pop_size = 100, fixed_servers = True):\n",
    "    for i in tqdm_notebook(range(generations), desc='Generation'):\n",
    "        gen = {}\n",
    "        frontiers = nonDominatedSort(population)\n",
    "        j = 0\n",
    "        while len(gen) < pop_size:\n",
    "            front = [population[x] for x in frontiers[j]]\n",
    "            crowdingDistance(front)\n",
    "            gen.update({key: value for key, value in population.items() if key in frontiers[j]})\n",
    "            j += 1\n",
    "        population = gen\n",
    "        if i%1 == 0:\n",
    "           print(\"Generation: \" + str(i))\n",
    "           showPopulation(population)\n",
    "        pop_list = sorted(population.values(), key = operator.attrgetter(\"frontier\", \"distance\"))\n",
    "        population = {}\n",
    "        for i in range(0,pop_size):\n",
    "            id = pop_list[i].id\n",
    "            population[id] = pop_list[i]\n",
    "        next_gen = new_generation(data,population, i+1, .01, fixed_servers)\n",
    "        population.update(next_gen)\n",
    "       \n",
    "        "
   ]
  },
  {
   "cell_type": "code",
   "execution_count": 8,
   "metadata": {},
   "outputs": [
    {
     "output_type": "error",
     "ename": "NameError",
     "evalue": "name 'evolution' is not defined",
     "traceback": [
      "\u001b[1;31m---------------------------------------------------------------------------\u001b[0m",
      "\u001b[1;31mNameError\u001b[0m                                 Traceback (most recent call last)",
      "\u001b[1;32m<ipython-input-8-37062b785e68>\u001b[0m in \u001b[0;36m<module>\u001b[1;34m\u001b[0m\n\u001b[1;32m----> 1\u001b[1;33m \u001b[0mevolution\u001b[0m\u001b[1;33m(\u001b[0m\u001b[0mdf_100\u001b[0m\u001b[1;33m,\u001b[0m\u001b[0mpopulation\u001b[0m\u001b[1;33m)\u001b[0m\u001b[1;33m\u001b[0m\u001b[1;33m\u001b[0m\u001b[0m\n\u001b[0m",
      "\u001b[1;31mNameError\u001b[0m: name 'evolution' is not defined"
     ]
    }
   ],
   "source": [
    "evolution(df_200,population)"
   ]
  },
  {
   "cell_type": "code",
   "execution_count": null,
   "metadata": {},
   "outputs": [],
   "source": [
    "gen2"
   ]
  },
  {
   "cell_type": "code",
   "execution_count": 424,
   "metadata": {},
   "outputs": [],
   "source": [
    " frontiers = nonDominatedSort(population)"
   ]
  },
  {
   "cell_type": "code",
   "execution_count": 425,
   "metadata": {},
   "outputs": [
    {
     "output_type": "execute_result",
     "data": {
      "text/plain": [
       "defaultdict(list,\n",
       "            {0: [9, 35, 44, 51, 52, 68, 77, 80, 89, 94, 98],\n",
       "             1: [29, 6, 25, 18, 65, 91, 23, 83],\n",
       "             2: [56, 93, 5, 88, 14, 40, 71, 81, 20, 78],\n",
       "             3: [12, 13, 55, 57, 75, 59, 37, 64],\n",
       "             4: [26, 16, 58, 90],\n",
       "             5: [1, 43, 48, 63, 92, 34, 96],\n",
       "             6: [32, 87, 76, 54, 73, 10, 27],\n",
       "             7: [22, 61, 38, 45, 50, 0, 8, 19],\n",
       "             8: [30, 47, 86, 46, 79, 95],\n",
       "             9: [39, 31, 69],\n",
       "             10: [17, 49, 3, 24],\n",
       "             11: [11, 2, 4, 42, 66],\n",
       "             12: [33, 41, 99, 97],\n",
       "             13: [62, 74, 15, 67, 70],\n",
       "             14: [53, 84, 7],\n",
       "             15: [85, 28],\n",
       "             16: [36, 60, 21, 72],\n",
       "             17: [82]})"
      ]
     },
     "metadata": {},
     "execution_count": 425
    }
   ],
   "source": [
    "frontiers"
   ]
  },
  {
   "cell_type": "code",
   "execution_count": null,
   "metadata": {},
   "outputs": [],
   "source": []
  }
 ]
}