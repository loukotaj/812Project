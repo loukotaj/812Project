{
 "metadata": {
  "language_info": {
   "codemirror_mode": {
    "name": "ipython",
    "version": 3
   },
   "file_extension": ".py",
   "mimetype": "text/x-python",
   "name": "python",
   "nbconvert_exporter": "python",
   "pygments_lexer": "ipython3",
   "version": "3.7.9"
  },
  "orig_nbformat": 2,
  "kernelspec": {
   "name": "python3",
   "display_name": "Python 3.7.9 64-bit",
   "metadata": {
    "interpreter": {
     "hash": "253588e5b720c4626f0293678f453d2cf4fd73352561ef147b4f7e42d966dfd3"
    }
   }
  }
 },
 "nbformat": 4,
 "nbformat_minor": 2,
 "cells": [
  {
   "cell_type": "code",
   "execution_count": 24,
   "metadata": {},
   "outputs": [],
   "source": [
    "import pandas as pd\n",
    "import datetime\n",
    "from geopy import distance\n",
    "import numpy as np\n",
    "from collections import defaultdict\n",
    "import progressbar\n",
    "import operator\n",
    "import secrets\n",
    "import random\n",
    "df = pd.read_pickle('prepared_telco_data.pickle')\n"
   ]
  },
  {
   "cell_type": "code",
   "execution_count": 2,
   "metadata": {},
   "outputs": [],
   "source": [
    "df_100 = df.sample(n=200)\n",
    "df_100 = df_100.reset_index()"
   ]
  },
  {
   "cell_type": "code",
   "execution_count": 196,
   "metadata": {},
   "outputs": [],
   "source": [
    "class Species():\n",
    "    frontier = 0\n",
    "    distance = 0 \n",
    "    servers = []\n",
    "    solution = []\n",
    "    accessDelay = 0\n",
    "    workloadBalance = 0\n",
    "    id = 0 \n",
    "    fitness = 0\n",
    "    def __init__(self,f,d,s,sol,wB,aD, id):\n",
    "        self.frontier = f\n",
    "        self.distance = d \n",
    "        self.servers = s\n",
    "        self.solution = sol\n",
    "        self.accessDelay = aD\n",
    "        self.workloadBalance = wB\n",
    "        self.id = id\n",
    "    def __repr__(self):\n",
    "        return \"Species: \" + str(self.id) + \" Frontier: \" + str(self.frontier) + \" distance: \" + str(self.distance) + \" Access Delay: \" + str(self.accessDelay) + \" Workload Balance: \" + str(self.workloadBalance) + \" Servers: \" + str(len(self.servers))"
   ]
  },
  {
   "cell_type": "code",
   "execution_count": 192,
   "metadata": {},
   "outputs": [],
   "source": [
    "def accessDelay(solution, data):\n",
    "    delay = 0\n",
    "    i = 0\n",
    "    for location in solution:\n",
    "        delay += distance.distance(data.iloc[location]['location'],data.iloc[i]['location']).km\n",
    "    return delay\n",
    "def workloadBalance(solution, data):\n",
    "    servers = dict.fromkeys(solution,0)\n",
    "    for index,row in data.iterrows():\n",
    "        servers[solution[index]] +=  row['workload']\n",
    "    total = 0\n",
    "    mean = sum(servers.keys())/len(servers)\n",
    "    for key,value in servers.items():\n",
    "        total += (value - mean)**2\n",
    "    return np.sqrt(total/len(servers))\n",
    "def checkDominance(a,b, check_servers = False):\n",
    "    if check_servers:\n",
    "        if a.accessDelay < b.accessDelay and a.workloadBalance <= b.workloadBalance and len(a.servers) <= len(b.servers):\n",
    "            return True\n",
    "        if a.accessDelay <= b.accessDelay and a.workloadBalance < b.workloadBalance and len(a.servers) <= len(b.servers):\n",
    "            return True\n",
    "        if a.accessDelay <= b.accessDelay and a.workloadBalance <= b.workloadBalance and len(a.servers) < len(b.servers):\n",
    "            return True\n",
    "    else:\n",
    "        if a.accessDelay < b.accessDelay and a.workloadBalance <= b.workloadBalance:\n",
    "            return True\n",
    "        if a.accessDelay <= b.accessDelay and a.workloadBalance < b.workloadBalance:\n",
    "            return True\n",
    "    return False"
   ]
  },
  {
   "cell_type": "code",
   "execution_count": 152,
   "metadata": {},
   "outputs": [],
   "source": [
    "def nonDominatedSort(population, check_servers = False):\n",
    "    S = {}\n",
    "    n = {}\n",
    "    F = defaultdict(list)\n",
    "    for key in population.keys():\n",
    "        S[key] = []\n",
    "        n[key] = 0\n",
    "        for key2 in population.keys():\n",
    "            if key == key2:\n",
    "                pass\n",
    "            elif checkDominance(population[key],population[key2], check_servers):\n",
    "                S[key].append(key2)\n",
    "            elif checkDominance(population[key2],population[key], check_servers):\n",
    "                n[key] += 1\n",
    "        if n[key] == 0:\n",
    "            population[key].frontier = 0  #set rank of species internally \n",
    "            F[0].append(key)\n",
    "    i = 0\n",
    "    while F[i] != []:\n",
    "        Q = []\n",
    "        for p in F[i]:\n",
    "            for q in S[p]:\n",
    "                n[q] -= 1\n",
    "                if n[q] == 0:\n",
    "                    population[q].frontier = i + 1 #set rank of species internally \n",
    "                    Q.append(q)\n",
    "        i = i + 1\n",
    "        if not Q:\n",
    "            break\n",
    "        F[i] = Q\n",
    "    return F"
   ]
  },
  {
   "cell_type": "code",
   "execution_count": 6,
   "metadata": {},
   "outputs": [],
   "source": [
    "def crowdingDistance(population, check_servers = False):\n",
    "    #set distances to 0 \n",
    "    for member in population:\n",
    "        member.distance = 0\n",
    "\n",
    "    #sort by access delay and compute distances\n",
    "    population = sorted(population, key = lambda x: x.accessDelay)\n",
    "    population[0].distance = -np.inf\n",
    "    population[-1].distance = -np.inf\n",
    "    for i in range(1,len(population)-1):\n",
    "        population[i].distance = population[i].distance - (population[i+1].accessDelay - population[i-1].accessDelay)/(population[-1].accessDelay - population[0].accessDelay)\n",
    "    \n",
    "    #sort by workload balance and compute distances\n",
    "    population = sorted(population, key = lambda x: x.workloadBalance)\n",
    "    population[0].distance = -np.inf\n",
    "    population[-1].distance = -np.inf\n",
    "    for i in range(1,len(population)-1):\n",
    "        population[i].distance = population[i].distance - (population[i+1].workloadBalance - population[i-1].workloadBalance)/(population[-1].workloadBalance - population[0].workloadBalance)\n",
    "    \n",
    "    if check_servers:\n",
    "        #sort by num servers and compute distances\n",
    "        population = sorted(population, key = lambda x: len(x.servers))\n",
    "        population[0].distance = -np.inf\n",
    "        population[-1].distance = -np.inf\n",
    "        for i in range(1,len(population)-1):\n",
    "            population[i].distance = population[i].distance - (len(population[i+1].servers) - len(population[i-1].servers))/(len(population[-1].servers) - len(population[0].servers))\n"
   ]
  },
  {
   "cell_type": "code",
   "execution_count": 16,
   "metadata": {},
   "outputs": [],
   "source": [
    "def naive_solution(data,servers):\n",
    "    solution = []\n",
    "    for j in range(0,len(data)):\n",
    "        best_server = 0\n",
    "        min_dist = np.inf\n",
    "        for server in servers:\n",
    "            dist = distance.distance(data.iloc[j]['location'],data.iloc[server]['location']).km\n",
    "            if dist < min_dist:\n",
    "                best_server = server\n",
    "                min_dist = dist\n",
    "    solution.append(best_server)\n",
    "    return solution\n",
    "def init_pop(data, server_count = 20, pop_size = 100, server_variance = 5):\n",
    "    pop = {}\n",
    "    for i in progressbar.progressbar(range(pop_size)):\n",
    "        if server_variance:\n",
    "            server_n = np.random.randint(server_count-server_variance, server_count + server_variance)\n",
    "        else:\n",
    "            server_n = server_count\n",
    "        solution = naive_solution(data,servers)\n",
    "        pop[i] = Species(0,0,servers,solution, workloadBalance(solution,data), accessDelay(solution,data),\"Gen 1, Species:\" + str(i))\n",
    "    return pop"
   ]
  },
  {
   "cell_type": "code",
   "execution_count": 158,
   "metadata": {},
   "outputs": [],
   "source": [
    "def roulette(choices):\n",
    "    choice_odds = [] \n",
    "    #get odds for each choice\n",
    "    for i in range(len(choices)):\n",
    "        choice_odds.append((2*(len(choices) - i))/(len(choices)*(len(choices)+1)))\n",
    "\n",
    "    #pick a choice\n",
    "    max = sum([x for x in choice_odds])\n",
    "    pick = np.random.uniform(0, max)\n",
    "    current = 0\n",
    "    selected_choice = 0\n",
    "    for x in choice_odds:\n",
    "        current += x\n",
    "        if current >= pick:\n",
    "            break\n",
    "        selected_choice += 1\n",
    "    return selected_choice\n",
    "def selection(population, frontiers):\n",
    "    #pick a frontier\n",
    "    selected_frontier = roulette(frontiers)\n",
    "    #get distances for each member of frontier\n",
    "    distances = []\n",
    "    for i in frontiers[selected_frontier]:\n",
    "        distances.append((population[i].distance,i))\n",
    "    distances = sorted(distances)\n",
    "\n",
    "    #pick a specific member\n",
    "    selection = roulette(distances)\n",
    "    try:\n",
    "        selected_member = distances[selection]\n",
    "    except Exception:\n",
    "        print(selection)\n",
    "        print(distances)\n",
    "    selected_member = selected_member[1]\n",
    "    return population[selected_member]\n"
   ]
  },
  {
   "cell_type": "code",
   "execution_count": 8,
   "metadata": {},
   "outputs": [],
   "source": [
    "\n",
    "def mutate(species):\n",
    "    return species\n",
    "def breed(a,b,gen,id):\n",
    "    return a\n",
    "def new_generation(data,population,gen, mutation_rate):       \n",
    "    pop_list = sorted(population.values(), key = operator.attrgetter(\"frontier\", \"distance\"))\n",
    "    next_gen = {}\n",
    "    i = 1\n",
    "    while len(next_gen) < len(population):\n",
    "        a = selection(pop_list)\n",
    "        b = selection(pop_list)\n",
    "        new_species = breed(a,b,gen,i)\n",
    "    return population"
   ]
  },
  {
   "cell_type": "code",
   "execution_count": 9,
   "metadata": {},
   "outputs": [],
   "source": [
    "def evolution(generations = 100, pop_size = 100):\n",
    "    population = init_pop(df_100, server_variance = 0)\n",
    "    for i in progressbar.progressbar(range(generations)):\n",
    "        gen = {}\n",
    "        frontiers = nonDominatedSort(population)\n",
    "        i = 1\n",
    "        while len(gen) < pop_size:\n",
    "            front = [population[x] for x in frontiers[i]]\n",
    "            crowdingDistance(front)\n",
    "            gen.update({key: value for key, value in population.items() if key in frontiers[i]})\n",
    "            i += 1\n",
    "        population = gen\n",
    "        pop_list = sorted(population.values(), key = operator.attrgetter(\"frontier\", \"distance\"))\n",
    "        evaluate_fitness(population, frontiers)\n",
    "        population = {key: value for key, value in population.items() if key in [x.id for x in pop_list[0:pop_size]]}\n",
    "        next_gen = new_generation(df_100,population, i+1)\n",
    "        population = population.update(next_gen)\n",
    "        "
   ]
  },
  {
   "cell_type": "code",
   "execution_count": 198,
   "metadata": {},
   "outputs": [
    {
     "output_type": "stream",
     "name": "stderr",
     "text": [
      "100% (100 of 100) |######################| Elapsed Time: 0:03:12 Time:  0:03:12\n"
     ]
    }
   ],
   "source": [
    "pop = init_pop(df_100)"
   ]
  },
  {
   "cell_type": "code",
   "execution_count": null,
   "metadata": {},
   "outputs": [],
   "source": []
  }
 ]
}