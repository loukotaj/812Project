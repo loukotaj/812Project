{
 "metadata": {
  "language_info": {
   "codemirror_mode": {
    "name": "ipython",
    "version": 3
   },
   "file_extension": ".py",
   "mimetype": "text/x-python",
   "name": "python",
   "nbconvert_exporter": "python",
   "pygments_lexer": "ipython3",
   "version": "3.7.9"
  },
  "orig_nbformat": 2,
  "kernelspec": {
   "name": "python3",
   "display_name": "Python 3.7.9 64-bit",
   "metadata": {
    "interpreter": {
     "hash": "253588e5b720c4626f0293678f453d2cf4fd73352561ef147b4f7e42d966dfd3"
    }
   }
  }
 },
 "nbformat": 4,
 "nbformat_minor": 2,
 "cells": [
  {
   "cell_type": "code",
   "execution_count": 2,
   "metadata": {},
   "outputs": [],
   "source": [
    "import pandas as pd\n",
    "import datetime\n",
    "from geopy import distance\n",
    "import numpy as np\n",
    "\n",
    "df = pd.read_pickle('prepared_telco_data.pickle')"
   ]
  },
  {
   "cell_type": "code",
   "execution_count": 29,
   "metadata": {},
   "outputs": [],
   "source": [
    "def AccessDelay(solution, data):\n",
    "    delay = 0\n",
    "    i = 0\n",
    "    for location in solution:\n",
    "        delay += distance.distance(data.iloc[location]['location'],data.iloc[i]['location']).km\n",
    "    return delay\n",
    "def WorkloadBalance(solution, data):\n",
    "    servers = dict.fromkeys(solution,0)\n",
    "    for index,row in data.iterrows():\n",
    "        servers[solution[index]] +=  row['workload']\n",
    "    total = 0\n",
    "    mean = sum(servers.keys())/len(servers)\n",
    "    for key,value in servers.items():\n",
    "        total += (value - mean)**2\n",
    "    return np.sqrt(total/len(servers))\n",
    "def EdgeServerCount(solution):\n",
    "    return len(set(solution))"
   ]
  },
  {
   "cell_type": "code",
   "execution_count": null,
   "metadata": {},
   "outputs": [],
   "source": [
    "def nonDominatedSort(data, population):\n",
    "    return population\n",
    "def crowdingDistance(data, population):\n",
    "    return population\n",
    "def selection(data, population):\n",
    "    return population[0]\n",
    "def mutate(species):\n",
    "    return species\n",
    "def breed(a,b):\n",
    "    return a\n",
    "def new_generation(data,population):\n",
    "    "
   ]
  },
  {
   "cell_type": "code",
   "execution_count": 36,
   "metadata": {},
   "outputs": [],
   "source": [
    "def init_pop(data, server_count = 100, pop_size = 100, server_variance = 20):\n",
    "    pop = []\n",
    "    for i in range(pop_size):\n",
    "        server_count = int(np.random.randint(server_count-server_variance, server_count + server_variance))\n",
    "        servers = np.random.randint(low = 0, high=len(data), size = server_count)\n",
    "        solution = np.random.choice(servers,len(data),True)\n",
    "        pop.append((0,0,servers,solution))\t\n",
    "    return pop\n",
    "\n"
   ]
  },
  {
   "cell_type": "code",
   "execution_count": null,
   "metadata": {},
   "outputs": [],
   "source": [
    "def evolution(generations = 100, pop_size = 100):\n",
    "    population = init_pop(df)\n",
    "    for i in range(generations):\n",
    "        gen = []\n",
    "        fronts = nonDominatedSort(population)\n",
    "        while len(gen) < pop_size:\n",
    "            crowdingDistance(fronts[0])\n",
    "            gen.append(fronts.pop(0))\n",
    "        population = sorted(population)  \n",
    "        next_gen = new_generation(df,population)\n",
    "        population = population.append(next_gen)\n",
    "        "
   ]
  }
 ]
}