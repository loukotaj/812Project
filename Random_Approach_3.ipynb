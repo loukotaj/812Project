{
 "cells": [
  {
   "cell_type": "code",
   "execution_count": 7,
   "metadata": {
    "_cell_guid": "b1076dfc-b9ad-4769-8c92-a6c4dae69d19",
    "_uuid": "8f2839f25d086af736a60e9eeb907d3b93b6e0e5"
   },
   "outputs": [],
   "source": [
    "import numpy as np # linear algebra\n",
    "import pandas as pd # data processing, CSV file I/O (e.g. pd.read_csv)\n",
    "import seaborn as sbr\n",
    "import matplotlib.pyplot as mpl\n",
    "import datetime as dt\n",
    "import geopy.distance as distance\n"
   ]
  },
  {
   "cell_type": "code",
   "execution_count": 8,
   "metadata": {},
   "outputs": [
    {
     "name": "stdout",
     "output_type": "stream",
     "text": [
      "Requirement already satisfied: xlrd in c:\\users\\lenovo\\anaconda3\\lib\\site-packages (1.2.0)\n",
      "Note: you may need to restart the kernel to use updated packages.\n"
     ]
    }
   ],
   "source": [
    "pip install xlrd\n"
   ]
  },
  {
   "cell_type": "code",
   "execution_count": 9,
   "metadata": {},
   "outputs": [
    {
     "name": "stdout",
     "output_type": "stream",
     "text": [
      "Requirement already satisfied: openpyxl in c:\\users\\lenovo\\anaconda3\\lib\\site-packages (3.0.5)\n",
      "Requirement already satisfied: jdcal in c:\\users\\lenovo\\anaconda3\\lib\\site-packages (from openpyxl) (1.4.1)\n",
      "Requirement already satisfied: et-xmlfile in c:\\users\\lenovo\\anaconda3\\lib\\site-packages (from openpyxl) (1.0.1)\n",
      "Note: you may need to restart the kernel to use updated packages.\n"
     ]
    }
   ],
   "source": [
    "pip install openpyxl"
   ]
  },
  {
   "cell_type": "code",
   "execution_count": 10,
   "metadata": {},
   "outputs": [
    {
     "name": "stdout",
     "output_type": "stream",
     "text": [
      "Requirement already satisfied: geopy in c:\\users\\lenovo\\anaconda3\\lib\\site-packages (2.1.0)\n",
      "Requirement already satisfied: geographiclib<2,>=1.49 in c:\\users\\lenovo\\anaconda3\\lib\\site-packages (from geopy) (1.50)\n",
      "Note: you may need to restart the kernel to use updated packages.\n"
     ]
    }
   ],
   "source": [
    "pip install geopy "
   ]
  },
  {
   "cell_type": "markdown",
   "metadata": {},
   "source": [
    "## Read CSV & preprocess it into subset Dataframe\n"
   ]
  },
  {
   "cell_type": "code",
   "execution_count": 11,
   "metadata": {},
   "outputs": [],
   "source": [
    "df1=pd.read_excel(r\"C:\\Users\\lenovo\\Desktop\\MSU_GRAD\\Distributed Systems\\DIST-sYS-PROJECT\\datanew.xlsx\",sheet_name=\"sheet1\")\n",
    "df1=df1.dropna()\n",
    "\n",
    "#print(df2)"
   ]
  },
  {
   "cell_type": "markdown",
   "metadata": {},
   "source": [
    "## Computing Time Taken(durations~Workload balance) and Location of base stations."
   ]
  },
  {
   "cell_type": "code",
   "execution_count": 12,
   "metadata": {},
   "outputs": [
    {
     "name": "stderr",
     "output_type": "stream",
     "text": [
      "<ipython-input-12-f47fe272dbe1>:2: SettingWithCopyWarning: \n",
      "A value is trying to be set on a copy of a slice from a DataFrame.\n",
      "Try using .loc[row_indexer,col_indexer] = value instead\n",
      "\n",
      "See the caveats in the documentation: https://pandas.pydata.org/pandas-docs/stable/user_guide/indexing.html#returning-a-view-versus-a-copy\n",
      "  df2[\"Durations\"]=(df1[\"end time\"]-df1[\"start time\"]).dt.total_seconds()\n"
     ]
    },
    {
     "data": {
      "text/html": [
       "<div>\n",
       "<style scoped>\n",
       "    .dataframe tbody tr th:only-of-type {\n",
       "        vertical-align: middle;\n",
       "    }\n",
       "\n",
       "    .dataframe tbody tr th {\n",
       "        vertical-align: top;\n",
       "    }\n",
       "\n",
       "    .dataframe thead th {\n",
       "        text-align: right;\n",
       "    }\n",
       "</style>\n",
       "<table border=\"1\" class=\"dataframe\">\n",
       "  <thead>\n",
       "    <tr style=\"text-align: right;\">\n",
       "      <th></th>\n",
       "      <th>Durations</th>\n",
       "      <th>Combined_longitude_latitude</th>\n",
       "    </tr>\n",
       "  </thead>\n",
       "  <tbody>\n",
       "    <tr>\n",
       "      <th>0</th>\n",
       "      <td>1507810.0</td>\n",
       "      <td>(22.522803, 114.218796)</td>\n",
       "    </tr>\n",
       "    <tr>\n",
       "      <th>1</th>\n",
       "      <td>643543.0</td>\n",
       "      <td>(24.284812, 102.999068)</td>\n",
       "    </tr>\n",
       "    <tr>\n",
       "      <th>2</th>\n",
       "      <td>50378.0</td>\n",
       "      <td>(25.222206, 117.086322)</td>\n",
       "    </tr>\n",
       "    <tr>\n",
       "      <th>3</th>\n",
       "      <td>3755547.0</td>\n",
       "      <td>(26.139329, 103.078562)</td>\n",
       "    </tr>\n",
       "    <tr>\n",
       "      <th>4</th>\n",
       "      <td>763464.0</td>\n",
       "      <td>(26.215115, 109.744661)</td>\n",
       "    </tr>\n",
       "    <tr>\n",
       "      <th>...</th>\n",
       "      <td>...</td>\n",
       "      <td>...</td>\n",
       "    </tr>\n",
       "    <tr>\n",
       "      <th>2764</th>\n",
       "      <td>15654.0</td>\n",
       "      <td>(41.677262, 125.960124)</td>\n",
       "    </tr>\n",
       "    <tr>\n",
       "      <th>2765</th>\n",
       "      <td>106027.0</td>\n",
       "      <td>(41.835279, 123.498927)</td>\n",
       "    </tr>\n",
       "    <tr>\n",
       "      <th>2766</th>\n",
       "      <td>92737.0</td>\n",
       "      <td>(46.247857, 128.762232)</td>\n",
       "    </tr>\n",
       "    <tr>\n",
       "      <th>2767</th>\n",
       "      <td>1808387.0</td>\n",
       "      <td>(46.777465, 131.812182)</td>\n",
       "    </tr>\n",
       "    <tr>\n",
       "      <th>2768</th>\n",
       "      <td>1949.0</td>\n",
       "      <td>(47.35092, 130.301233)</td>\n",
       "    </tr>\n",
       "  </tbody>\n",
       "</table>\n",
       "<p>2769 rows × 2 columns</p>\n",
       "</div>"
      ],
      "text/plain": [
       "      Durations Combined_longitude_latitude\n",
       "0     1507810.0     (22.522803, 114.218796)\n",
       "1      643543.0     (24.284812, 102.999068)\n",
       "2       50378.0     (25.222206, 117.086322)\n",
       "3     3755547.0     (26.139329, 103.078562)\n",
       "4      763464.0     (26.215115, 109.744661)\n",
       "...         ...                         ...\n",
       "2764    15654.0     (41.677262, 125.960124)\n",
       "2765   106027.0     (41.835279, 123.498927)\n",
       "2766    92737.0     (46.247857, 128.762232)\n",
       "2767  1808387.0     (46.777465, 131.812182)\n",
       "2768     1949.0      (47.35092, 130.301233)\n",
       "\n",
       "[2769 rows x 2 columns]"
      ]
     },
     "execution_count": 12,
     "metadata": {},
     "output_type": "execute_result"
    }
   ],
   "source": [
    "df2=df1[[\"start time\",\"end time\",\"location(latitude/lontitude)\"]]\n",
    "df2[\"Durations\"]=(df1[\"end time\"]-df1[\"start time\"]).dt.total_seconds()\n",
    "df2=df2.groupby(by=\"location(latitude/lontitude)\").sum()\n",
    "df2=df2.reset_index()\n",
    "df2[\"Combined_longitude_latitude\"]=[tuple(y for y in x.split(\"/\")) for x in df2[\"location(latitude/lontitude)\"]]\n",
    "df2=df2[[\"Durations\",\"Combined_longitude_latitude\"]]\n",
    "df2\n"
   ]
  },
  {
   "cell_type": "markdown",
   "metadata": {},
   "source": [
    "## sample the data based on n\n"
   ]
  },
  {
   "cell_type": "code",
   "execution_count": 13,
   "metadata": {},
   "outputs": [
    {
     "name": "stdout",
     "output_type": "stream",
     "text": [
      "enter the total no of base_stations in the dataframe required for sampling 200\n"
     ]
    },
    {
     "data": {
      "text/html": [
       "<div>\n",
       "<style scoped>\n",
       "    .dataframe tbody tr th:only-of-type {\n",
       "        vertical-align: middle;\n",
       "    }\n",
       "\n",
       "    .dataframe tbody tr th {\n",
       "        vertical-align: top;\n",
       "    }\n",
       "\n",
       "    .dataframe thead th {\n",
       "        text-align: right;\n",
       "    }\n",
       "</style>\n",
       "<table border=\"1\" class=\"dataframe\">\n",
       "  <thead>\n",
       "    <tr style=\"text-align: right;\">\n",
       "      <th></th>\n",
       "      <th>Durations</th>\n",
       "      <th>Combined_longitude_latitude</th>\n",
       "    </tr>\n",
       "  </thead>\n",
       "  <tbody>\n",
       "    <tr>\n",
       "      <th>0</th>\n",
       "      <td>2583.0</td>\n",
       "      <td>(31.245938, 121.422548)</td>\n",
       "    </tr>\n",
       "    <tr>\n",
       "      <th>1</th>\n",
       "      <td>23884.0</td>\n",
       "      <td>(31.251746, 121.488779)</td>\n",
       "    </tr>\n",
       "    <tr>\n",
       "      <th>2</th>\n",
       "      <td>579.0</td>\n",
       "      <td>(31.236897, 121.363985)</td>\n",
       "    </tr>\n",
       "    <tr>\n",
       "      <th>3</th>\n",
       "      <td>2319285.0</td>\n",
       "      <td>(31.326648, 121.304442)</td>\n",
       "    </tr>\n",
       "    <tr>\n",
       "      <th>4</th>\n",
       "      <td>175670.0</td>\n",
       "      <td>(31.236197, 121.485283)</td>\n",
       "    </tr>\n",
       "    <tr>\n",
       "      <th>...</th>\n",
       "      <td>...</td>\n",
       "      <td>...</td>\n",
       "    </tr>\n",
       "    <tr>\n",
       "      <th>195</th>\n",
       "      <td>2859296.0</td>\n",
       "      <td>(31.247519, 121.322265)</td>\n",
       "    </tr>\n",
       "    <tr>\n",
       "      <th>196</th>\n",
       "      <td>78631.0</td>\n",
       "      <td>(31.18078, 121.423677)</td>\n",
       "    </tr>\n",
       "    <tr>\n",
       "      <th>197</th>\n",
       "      <td>208471.0</td>\n",
       "      <td>(30.965531, 121.208487)</td>\n",
       "    </tr>\n",
       "    <tr>\n",
       "      <th>198</th>\n",
       "      <td>10800.0</td>\n",
       "      <td>(31.242512, 121.481432)</td>\n",
       "    </tr>\n",
       "    <tr>\n",
       "      <th>199</th>\n",
       "      <td>85727.0</td>\n",
       "      <td>(31.159771, 121.58896)</td>\n",
       "    </tr>\n",
       "  </tbody>\n",
       "</table>\n",
       "<p>200 rows × 2 columns</p>\n",
       "</div>"
      ],
      "text/plain": [
       "     Durations Combined_longitude_latitude\n",
       "0       2583.0     (31.245938, 121.422548)\n",
       "1      23884.0     (31.251746, 121.488779)\n",
       "2        579.0     (31.236897, 121.363985)\n",
       "3    2319285.0     (31.326648, 121.304442)\n",
       "4     175670.0     (31.236197, 121.485283)\n",
       "..         ...                         ...\n",
       "195  2859296.0     (31.247519, 121.322265)\n",
       "196    78631.0      (31.18078, 121.423677)\n",
       "197   208471.0     (30.965531, 121.208487)\n",
       "198    10800.0     (31.242512, 121.481432)\n",
       "199    85727.0      (31.159771, 121.58896)\n",
       "\n",
       "[200 rows x 2 columns]"
      ]
     },
     "execution_count": 13,
     "metadata": {},
     "output_type": "execute_result"
    }
   ],
   "source": [
    "n=int(input(\"enter the total no of base_stations in the dataframe required for sampling \"))\n",
    "df3=df2.sample(n)\n",
    "df3=df3.reset_index(drop=True)\n",
    "df3\n"
   ]
  },
  {
   "cell_type": "markdown",
   "metadata": {},
   "source": [
    "## Random Approach"
   ]
  },
  {
   "cell_type": "code",
   "execution_count": 68,
   "metadata": {},
   "outputs": [],
   "source": [
    "def random_approach(server_count,df3):\n",
    "    df3=df3.reset_index(drop=True)\n",
    "    #print(df3)\n",
    "    #print(len(df3))\n",
    "    closest_server_arr=[]\n",
    "    for index_of_base_station in range(len(df3)):\n",
    "        closest_server=0\n",
    "        minimum_dist=np.inf\n",
    "        random_arr2=list(np.random.randint(1,n,server_count))\n",
    "        for server in random_arr2:\n",
    "            dist1=distance.distance(df3.iloc[index_of_base_station][\"Combined_longitude_latitude\"],df3.iloc[server][\"Combined_longitude_latitude\"]).km\n",
    "            if(dist1<minimum_dist):\n",
    "                minimum_dist=dist1\n",
    "                closest_server=server\n",
    "        closest_server_arr.append(closest_server)\n",
    "    return (closest_server_arr)\n",
    "\n",
    "\n",
    "def AccessDelay(closest_server_arr,df3):\n",
    "    #print(len(closest_server_arr))\n",
    "    # it must be equal to the length of dframe i.e each base station has chosen its nearest edgeserver.\n",
    "    \n",
    "    #but edge servers are placed near base station itself . so we are idirectly comparing DISTANCE between 2 B.STATION\n",
    "    access_delay=0\n",
    "    i=0\n",
    "    for closest_server in closest_server_arr:\n",
    "        access_delay+=distance.distance(df3.iloc[closest_server][\"Combined_longitude_latitude\"],df3.iloc[i][\"Combined_longitude_latitude\"]).km\n",
    "        i+=1\n",
    "    return access_delay\n",
    "    \n",
    "\n",
    "\n",
    "    \"\"\"OR for each of the base syation from 1 to n, each has chosen its nearest edge server for which the distance is calculated and \n",
    "     added iteratively to finds the overall access delay for given set of edge server count\"\"\"\n",
    "\n",
    "#     for i in range(len(df3)):\n",
    "#             access_delay+=distance.distance(df3.iloc[closest_server_arr[i]][\"Combined_longitude_latitude\"],df3.iloc[i][\"Combined_longitude_latitude\"]).km\n",
    "#     return access_delay\n",
    "\n",
    "\n",
    "def Workload_balance(closest_server_arr,df3):\n",
    "    edge_servers=dict.fromkeys(closest_server_arr,0)\n",
    "    \"\"\"# edge_servers contains all the closest servers arranged in dictionary format where each of the edge server acts as key with value pair as \"0\" \"\"\"\n",
    "    \"\"\"i.e an array of closest edge servers converted to dictionary\"\"\"\n",
    "    for index,row in df3.iterrows():\n",
    "        edge_servers[closest_server_arr[index]] +=  row[\"Durations\"]\n",
    "    total = 0\n",
    "    mean = sum(edge_servers.values())/len(edge_servers)\n",
    "    for key,value in edge_servers.items():\n",
    "        total += (value - mean)**2\n",
    "    return np.sqrt(total/len(edge_servers))\n",
    "    "
   ]
  },
  {
   "cell_type": "markdown",
   "metadata": {},
   "source": [
    "### Main function"
   ]
  },
  {
   "cell_type": "code",
   "execution_count": 75,
   "metadata": {},
   "outputs": [],
   "source": [
    "def main():\n",
    "    server_counts=[]\n",
    "    ADSol_Arr,WBSol_Arr=[],[]\n",
    "    server_count_set=int(input(\"enter the value of server count set.\"))\n",
    "    # indicates the length of the server_count_set\n",
    "    \n",
    "#     \"\"\"FORMING random server count set array\"\"\"\n",
    "    \n",
    "#     random_array=list(np.random.randint(4,n/2,server_count_set))\n",
    "#     print(random_array,\"RANDOM server_count_set\")\n",
    "     \n",
    "    \"\"\"FORMING sequence server count set array\"\"\"\n",
    "    server_count_set_array=[]\n",
    "    x=5 # initial edge server count\n",
    "    for i in range(server_count_set):\n",
    "        server_count_set_array.append(x)\n",
    "        x+=5\n",
    "    print(server_count_set_array,\"SEQUENTIAL server_count_set\")\n",
    "    \n",
    "#     \"\"\"APPLYING RANDOM APPROACH TO SET OF SERVER_COUNT GENERATED FROM RANDOM ARRAY\"\"\"\n",
    "#     for server_count in random_array:\n",
    "#         print(server_count,\"server count\")\n",
    "#         closest_server_arr=random_approach(server_count,df3)\n",
    "#         ##perfrom calculation of access delay\n",
    "#         ADSol_Arr.append(AccessDelay(closest_server_arr,df3))\n",
    "\n",
    "#             # perfrom worklaod balance for given set of servers\n",
    "#         WBSol_Arr.append(Workload_balance(closest_server_arr,df3))\n",
    "\n",
    "#         server_counts.append(server_count)\n",
    "    \n",
    "    \n",
    "     #\"\"\"OR\"\"\" \n",
    "    \"\"\"APPLYING RANDOM APPROACH TO SET OF SERVER COUNT GENERATED FROM SEQUENTIAL SERVER_COUNT_SET\"\"\"\n",
    "    for server_count in server_count_set_array:\n",
    "        print(server_count,\"server count\")\n",
    "        closest_server_arr=random_approach(server_count,df3)\n",
    "            #perfrom calculation of access delay\n",
    "        ADSol_Arr.append(AccessDelay(closest_server_arr,df3))\n",
    "\n",
    "                # perfrom worklaod balance for given set of servers\n",
    "        WBSol_Arr.append(Workload_balance(closest_server_arr,df3))\n",
    "\n",
    "        server_counts.append(server_count)\n",
    "\n",
    "    \n",
    "    \n",
    "    #mpl.figure()\n",
    "    \"\"\"Plotting of Access delay \"\"\"\n",
    "    mpl.scatter(server_counts,ADSol_Arr)\n",
    "    mpl.xlabel(\"set of edge servers considered\")\n",
    "    mpl.ylabel(\"Access delay \")\n",
    "    mpl.show()\n",
    "    #print(ADSol_Arr)\n",
    "    \"\"\"Averaging access delay and minimum access delay of all the lot\"\"\"\n",
    "    Average_access_delay=(sum(ADSol_Arr)/len(ADSol_Arr))\n",
    "    print(f\"Average access delay for given  set of server_count in a server set is {Average_access_delay}\")\n",
    "    print()\n",
    "    \n",
    "    Access_delay_dictionary=dict(zip(ADSol_Arr,server_counts))\n",
    "    minimum_access_delay=min(Access_delay_dictionary.keys())\n",
    "    print(f\"Minimum access delay for given set of servers {Access_delay_dictionary[minimum_access_delay]} is {minimum_access_delay}\")\n",
    "    print()\n",
    "    \n",
    "    #print(server_counts)\n",
    "    \n",
    "    \"\"\"plotting for Workload balance\"\"\"\n",
    "    mpl.scatter(server_counts,WBSol_Arr)\n",
    "    mpl.xlabel(\"set of edge servers considered\")\n",
    "    mpl.ylabel(\" WLB\")\n",
    "    mpl.show()                                                                            \n",
    "   # print(WBSol_Arr)\n",
    "    \n",
    "    \"\"\"Averaging Workload balance and minimum access delay of all the lot\"\"\"\n",
    "    \n",
    "    Average_Workload_balance=(sum(WBSol_Arr)/len(WBSol_Arr))\n",
    "    print(f\"Average workload balance for given  set of server_count in a server set is {Average_Workload_balance}\")\n",
    "    print() \n",
    "    Workload_Balance_dictionary=dict(zip(WBSol_Arr,server_counts))\n",
    "    minimum_Workload_Balance=min(Workload_Balance_dictionary.keys())\n",
    "    print(f\"Minimum Workload balance for given set of servers {Workload_Balance_dictionary[minimum_Workload_Balance]} is {minimum_Workload_Balance}\")\n",
    "    print()\n",
    "   \n"
   ]
  },
  {
   "cell_type": "code",
   "execution_count": 76,
   "metadata": {},
   "outputs": [
    {
     "name": "stdout",
     "output_type": "stream",
     "text": [
      "enter the value of server count set.10\n",
      "[5, 10, 15, 20, 25, 30, 35, 40, 45, 50] SEQUENTIAL server_count_set\n",
      "5 server count\n",
      "10 server count\n",
      "15 server count\n",
      "20 server count\n",
      "25 server count\n",
      "30 server count\n",
      "35 server count\n",
      "40 server count\n",
      "45 server count\n",
      "50 server count\n"
     ]
    },
    {
     "data": {
      "image/png": "[encoded data removed]",
      "text/plain": [
       "<Figure size 432x288 with 1 Axes>"
      ]
     },
     "metadata": {
      "needs_background": "light"
     },
     "output_type": "display_data"
    },
    {
     "name": "stdout",
     "output_type": "stream",
     "text": [
      "Average access delay for given  set of server_count in a server set is 1813.2132139732153\n",
      "\n",
      "Minimum access delay for given set of servers 45 is 730.4902923052316\n",
      "\n"
     ]
    },
    {
     "data": {
      "image/png": "[encoded data removed]",
      "text/plain": [
       "<Figure size 432x288 with 1 Axes>"
      ]
     },
     "metadata": {
      "needs_background": "light"
     },
     "output_type": "display_data"
    },
    {
     "name": "stdout",
     "output_type": "stream",
     "text": [
      "Average workload balance for given  set of server_count in a server set is 874400.05750829\n",
      "\n",
      "Minimum Workload balance for given set of servers 25 is 788104.6141729879\n",
      "\n"
     ]
    }
   ],
   "source": [
    "main()"
   ]
  },
  {
   "cell_type": "code",
   "execution_count": null,
   "metadata": {},
   "outputs": [],
   "source": []
  },
  {
   "cell_type": "code",
   "execution_count": null,
   "metadata": {},
   "outputs": [],
   "source": []
  },
  {
   "cell_type": "code",
   "execution_count": null,
   "metadata": {},
   "outputs": [],
   "source": []
  }
 ],
 "metadata": {
  "kernelspec": {
   "display_name": "Python 3",
   "language": "python",
   "name": "python3"
  },
  "language_info": {
   "codemirror_mode": {
    "name": "ipython",
    "version": 3
   },
   "file_extension": ".py",
   "mimetype": "text/x-python",
   "name": "python",
   "nbconvert_exporter": "python",
   "pygments_lexer": "ipython3",
   "version": "3.8.5"
  }
 },
 "nbformat": 4,
 "nbformat_minor": 4
}
