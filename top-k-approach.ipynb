{
 "cells": [
  {
   "cell_type": "code",
   "execution_count": 20,
   "metadata": {},
   "outputs": [],
   "source": [
    "import pandas as pd\n",
    "import numpy as np\n",
    "from geopy import distance\n",
    "from matplotlib import pyplot as plt"
   ]
  },
  {
   "cell_type": "code",
   "execution_count": 21,
   "metadata": {},
   "outputs": [],
   "source": [
    "df = pd.read_pickle('prepared_telco_data.pickle')\n",
    "df_100 = df.sample(n=100).reset_index(drop=True)\n",
    "df_200 = pd.read_pickle('200accesspointdata.pickle')"
   ]
  },
  {
   "cell_type": "code",
   "execution_count": 22,
   "metadata": {},
   "outputs": [],
   "source": [
    "def accessDelay(solution, data):\n",
    "    delay = 0\n",
    "    i = 0\n",
    "    for location in solution:\n",
    "        delay += distance.distance(data.iloc[location]['location'],data.iloc[i]['location']).km\n",
    "        i+=1\n",
    "    return delay\n",
    "def workloadBalance(solution, data):\n",
    "    servers = dict.fromkeys(solution,0)\n",
    "    for index,row in data.iterrows():\n",
    "        servers[solution[index]] +=  row['workload']\n",
    "    total = 0\n",
    "    mean = sum(servers.values())/len(servers)\n",
    "    for key,value in servers.items():\n",
    "        total += (value - mean)**2\n",
    "    return np.sqrt(total/len(servers))\n"
   ]
  },
  {
   "cell_type": "code",
   "execution_count": 23,
   "metadata": {},
   "outputs": [],
   "source": [
    "def top_k_solution(data, server_count):\n",
    "    data = data.sort_values(by='workload', ascending=False).reset_index(drop=True)\n",
    "    solution = []\n",
    "    for i in range(0,len(data)):\n",
    "        closest_server = 0\n",
    "        min_dist = np.inf\n",
    "        for server in range(server_count):\n",
    "            dist = distance.distance(data.iloc[i]['location'],data.iloc[server]['location']).km\n",
    "            if dist < min_dist:\n",
    "                closest_server = server\n",
    "                min_dist = dist\n",
    "        solution.append(closest_server)\n",
    "    return solution\n",
    "\n",
    "def show_top_k_results(data):\n",
    "    server_counts = []\n",
    "    ads = []\n",
    "    wbs = []\n",
    "    data = data.sort_values(by='workload', ascending=False).reset_index(drop=True)\n",
    "    for server_count in range(5,26,5):\n",
    "        solution = top_k_solution(data, server_count)\n",
    "        ads.append(accessDelay(solution, data))\n",
    "        wbs.append(workloadBalance(solution, data))\n",
    "        server_counts.append(server_count)\n",
    "    plt.xlabel(\"Number of Edge Servers\")\n",
    "    plt.ylabel(\"Workload Balance\")\n",
    "    plt.scatter(server_counts,wbs)\n",
    "    plt.show()\n",
    "    plt.xlabel(\"Number of Edge Servers\")\n",
    "    plt.ylabel(\"Access Delay\")\n",
    "    plt.scatter(server_counts,ads)\n",
    "    plt.show()"
   ]
  },
  {
   "cell_type": "code",
   "execution_count": 24,
   "metadata": {},
   "outputs": [
    {
     "data": {
      "image/png": "[encoded data removed]",
      "text/plain": [
       "<Figure size 432x288 with 1 Axes>"
      ]
     },
     "metadata": {
      "needs_background": "light"
     },
     "output_type": "display_data"
    },
    {
     "data": {
      "image/png": "[encoded data removed]",
      "text/plain": [
       "<Figure size 432x288 with 1 Axes>"
      ]
     },
     "metadata": {
      "needs_background": "light"
     },
     "output_type": "display_data"
    }
   ],
   "source": [
    "show_top_k_results(df_200)"
   ]
  },
  {
   "cell_type": "code",
   "execution_count": 25,
   "metadata": {},
   "outputs": [
    {
     "name": "stdout",
     "output_type": "stream",
     "text": [
      "Access Delay: 2167.7894229059166\n",
      "Workload Balance: 2649941.3322544144\n"
     ]
    }
   ],
   "source": [
    "def top_k_200_20(data):\n",
    "    data = data.sort_values(by='workload', ascending=False).reset_index(drop=True)\n",
    "    solution = top_k_solution(data, 20)\n",
    "    ads = accessDelay(solution, data)\n",
    "    wbs = workloadBalance(solution, data)\n",
    "    print(\"Access Delay: \" + str(ads))\n",
    "    print(\"Workload Balance: \" + str(wbs))\n",
    "top_k_200_20(df_200)"
   ]
  },
  {
   "cell_type": "code",
   "execution_count": null,
   "metadata": {},
   "outputs": [],
   "source": []
  }
 ],
 "metadata": {
  "kernelspec": {
   "display_name": "812-venv",
   "language": "python",
   "name": "812-venv"
  },
  "language_info": {
   "codemirror_mode": {
    "name": "ipython",
    "version": 3
   },
   "file_extension": ".py",
   "mimetype": "text/x-python",
   "name": "python",
   "nbconvert_exporter": "python",
   "pygments_lexer": "ipython3",
   "version": "3.6.9"
  }
 },
 "nbformat": 4,
 "nbformat_minor": 4
}
