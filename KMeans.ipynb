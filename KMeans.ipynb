{
 "cells": [
  {
   "cell_type": "code",
   "execution_count": 1,
   "metadata": {},
   "outputs": [],
   "source": [
    "import pandas as pd\n",
    "import datetime\n",
    "telco_data = pd.read_excel('data.xlsx')\n",
    "#telco_data = WS.dropna()"
   ]
  },
  {
   "cell_type": "code",
   "execution_count": 2,
   "metadata": {},
   "outputs": [
    {
     "name": "stderr",
     "output_type": "stream",
     "text": [
      "c:\\users\\luke\\appdata\\local\\programs\\python\\python37\\lib\\site-packages\\ipykernel_launcher.py:2: SettingWithCopyWarning: \n",
      "A value is trying to be set on a copy of a slice from a DataFrame.\n",
      "Try using .loc[row_indexer,col_indexer] = value instead\n",
      "\n",
      "See the caveats in the documentation: http://pandas.pydata.org/pandas-docs/stable/indexing.html#indexing-view-versus-copy\n",
      "  \n"
     ]
    }
   ],
   "source": [
    "telco_data_subset = telco_data[['start time', 'end time', 'location(latitude/lontitude)']]\n",
    "telco_data_subset['workload'] = (telco_data_subset['end time']-telco_data_subset['start time']).dt.total_seconds()\n",
    "telco_data_subset = telco_data_subset[['workload', 'location(latitude/lontitude)']]\n",
    "telco_data_subset = telco_data_subset.groupby(by = [\"location(latitude/lontitude)\"]).sum()\n",
    "telco_data_subset = telco_data_subset.reset_index()\n",
    "telco_data_subset['location'] = [tuple([float(y) for y in x.split(\"/\")]) for x in telco_data_subset['location(latitude/lontitude)']]\n",
    "telco_data_subset = telco_data_subset[['workload', 'location']]\n"
   ]
  },
  {
   "cell_type": "code",
   "execution_count": 3,
   "metadata": {},
   "outputs": [],
   "source": [
    "telco_data_subset.to_pickle(\"prepared_telco_data.pickle\")"
   ]
  },
  {
   "cell_type": "code",
   "execution_count": 4,
   "metadata": {},
   "outputs": [
    {
     "data": {
      "text/html": [
       "<div>\n",
       "<style scoped>\n",
       "    .dataframe tbody tr th:only-of-type {\n",
       "        vertical-align: middle;\n",
       "    }\n",
       "\n",
       "    .dataframe tbody tr th {\n",
       "        vertical-align: top;\n",
       "    }\n",
       "\n",
       "    .dataframe thead th {\n",
       "        text-align: right;\n",
       "    }\n",
       "</style>\n",
       "<table border=\"1\" class=\"dataframe\">\n",
       "  <thead>\n",
       "    <tr style=\"text-align: right;\">\n",
       "      <th></th>\n",
       "      <th>workload</th>\n",
       "      <th>location</th>\n",
       "    </tr>\n",
       "  </thead>\n",
       "  <tbody>\n",
       "    <tr>\n",
       "      <th>0</th>\n",
       "      <td>1507810.0</td>\n",
       "      <td>(22.522803, 114.218796)</td>\n",
       "    </tr>\n",
       "    <tr>\n",
       "      <th>1</th>\n",
       "      <td>643543.0</td>\n",
       "      <td>(24.284812, 102.999068)</td>\n",
       "    </tr>\n",
       "    <tr>\n",
       "      <th>2</th>\n",
       "      <td>50378.0</td>\n",
       "      <td>(25.222206, 117.086322)</td>\n",
       "    </tr>\n",
       "    <tr>\n",
       "      <th>3</th>\n",
       "      <td>3755547.0</td>\n",
       "      <td>(26.139329, 103.078562)</td>\n",
       "    </tr>\n",
       "    <tr>\n",
       "      <th>4</th>\n",
       "      <td>763464.0</td>\n",
       "      <td>(26.215115, 109.744661)</td>\n",
       "    </tr>\n",
       "    <tr>\n",
       "      <th>5</th>\n",
       "      <td>81696.0</td>\n",
       "      <td>(28.738742, 120.640606)</td>\n",
       "    </tr>\n",
       "    <tr>\n",
       "      <th>6</th>\n",
       "      <td>5385.0</td>\n",
       "      <td>(28.812629, 115.952954)</td>\n",
       "    </tr>\n",
       "    <tr>\n",
       "      <th>7</th>\n",
       "      <td>4810.0</td>\n",
       "      <td>(29.151779, 120.985563)</td>\n",
       "    </tr>\n",
       "    <tr>\n",
       "      <th>8</th>\n",
       "      <td>590670.0</td>\n",
       "      <td>(29.263844, 115.023159)</td>\n",
       "    </tr>\n",
       "    <tr>\n",
       "      <th>9</th>\n",
       "      <td>849378.0</td>\n",
       "      <td>(29.526266, 119.910488)</td>\n",
       "    </tr>\n",
       "    <tr>\n",
       "      <th>10</th>\n",
       "      <td>217950.0</td>\n",
       "      <td>(30.442177, 120.618727)</td>\n",
       "    </tr>\n",
       "    <tr>\n",
       "      <th>11</th>\n",
       "      <td>1137.0</td>\n",
       "      <td>(30.679943, 104.067923)</td>\n",
       "    </tr>\n",
       "    <tr>\n",
       "      <th>12</th>\n",
       "      <td>378660.0</td>\n",
       "      <td>(30.705762, 121.33512)</td>\n",
       "    </tr>\n",
       "    <tr>\n",
       "      <th>13</th>\n",
       "      <td>1298240.0</td>\n",
       "      <td>(30.715526, 121.351073)</td>\n",
       "    </tr>\n",
       "    <tr>\n",
       "      <th>14</th>\n",
       "      <td>90813.0</td>\n",
       "      <td>(30.716044, 121.291037)</td>\n",
       "    </tr>\n",
       "    <tr>\n",
       "      <th>15</th>\n",
       "      <td>1707765.0</td>\n",
       "      <td>(30.716187, 121.349498)</td>\n",
       "    </tr>\n",
       "    <tr>\n",
       "      <th>16</th>\n",
       "      <td>148788.0</td>\n",
       "      <td>(30.718108, 121.283169)</td>\n",
       "    </tr>\n",
       "    <tr>\n",
       "      <th>17</th>\n",
       "      <td>379693.0</td>\n",
       "      <td>(30.718302, 121.314644)</td>\n",
       "    </tr>\n",
       "    <tr>\n",
       "      <th>18</th>\n",
       "      <td>1749557.0</td>\n",
       "      <td>(30.719537, 121.355948)</td>\n",
       "    </tr>\n",
       "    <tr>\n",
       "      <th>19</th>\n",
       "      <td>100794.0</td>\n",
       "      <td>(30.719644, 121.345988)</td>\n",
       "    </tr>\n",
       "    <tr>\n",
       "      <th>20</th>\n",
       "      <td>27412.0</td>\n",
       "      <td>(30.721392, 121.345766)</td>\n",
       "    </tr>\n",
       "    <tr>\n",
       "      <th>21</th>\n",
       "      <td>745926.0</td>\n",
       "      <td>(30.723654, 121.330778)</td>\n",
       "    </tr>\n",
       "    <tr>\n",
       "      <th>22</th>\n",
       "      <td>1138165.0</td>\n",
       "      <td>(30.72456, 121.344043)</td>\n",
       "    </tr>\n",
       "    <tr>\n",
       "      <th>23</th>\n",
       "      <td>261159.0</td>\n",
       "      <td>(30.730296, 121.342643)</td>\n",
       "    </tr>\n",
       "    <tr>\n",
       "      <th>24</th>\n",
       "      <td>19565.0</td>\n",
       "      <td>(30.730789, 121.343497)</td>\n",
       "    </tr>\n",
       "    <tr>\n",
       "      <th>25</th>\n",
       "      <td>2041405.0</td>\n",
       "      <td>(30.731903, 121.334173)</td>\n",
       "    </tr>\n",
       "    <tr>\n",
       "      <th>26</th>\n",
       "      <td>285603.0</td>\n",
       "      <td>(30.733903, 121.341904)</td>\n",
       "    </tr>\n",
       "    <tr>\n",
       "      <th>27</th>\n",
       "      <td>1074772.0</td>\n",
       "      <td>(30.73407, 121.350673)</td>\n",
       "    </tr>\n",
       "    <tr>\n",
       "      <th>28</th>\n",
       "      <td>138107.0</td>\n",
       "      <td>(30.734301, 121.25722)</td>\n",
       "    </tr>\n",
       "    <tr>\n",
       "      <th>29</th>\n",
       "      <td>10528.0</td>\n",
       "      <td>(30.735262, 121.351726)</td>\n",
       "    </tr>\n",
       "    <tr>\n",
       "      <th>...</th>\n",
       "      <td>...</td>\n",
       "      <td>...</td>\n",
       "    </tr>\n",
       "    <tr>\n",
       "      <th>2739</th>\n",
       "      <td>138438.0</td>\n",
       "      <td>(31.469563, 121.384552)</td>\n",
       "    </tr>\n",
       "    <tr>\n",
       "      <th>2740</th>\n",
       "      <td>327851.0</td>\n",
       "      <td>(31.473557, 121.331298)</td>\n",
       "    </tr>\n",
       "    <tr>\n",
       "      <th>2741</th>\n",
       "      <td>351262.0</td>\n",
       "      <td>(31.475425, 121.356951)</td>\n",
       "    </tr>\n",
       "    <tr>\n",
       "      <th>2742</th>\n",
       "      <td>414587.0</td>\n",
       "      <td>(31.48259, 121.348661)</td>\n",
       "    </tr>\n",
       "    <tr>\n",
       "      <th>2743</th>\n",
       "      <td>21157.0</td>\n",
       "      <td>(31.483764, 121.274813)</td>\n",
       "    </tr>\n",
       "    <tr>\n",
       "      <th>2744</th>\n",
       "      <td>8812.0</td>\n",
       "      <td>(31.486771, 121.360405)</td>\n",
       "    </tr>\n",
       "    <tr>\n",
       "      <th>2745</th>\n",
       "      <td>245868.0</td>\n",
       "      <td>(31.488248, 121.349833)</td>\n",
       "    </tr>\n",
       "    <tr>\n",
       "      <th>2746</th>\n",
       "      <td>86551.0</td>\n",
       "      <td>(31.492475, 121.328439)</td>\n",
       "    </tr>\n",
       "    <tr>\n",
       "      <th>2747</th>\n",
       "      <td>159320.0</td>\n",
       "      <td>(31.492988, 121.292044)</td>\n",
       "    </tr>\n",
       "    <tr>\n",
       "      <th>2748</th>\n",
       "      <td>77.0</td>\n",
       "      <td>(31.497375, 121.324955)</td>\n",
       "    </tr>\n",
       "    <tr>\n",
       "      <th>2749</th>\n",
       "      <td>20066.0</td>\n",
       "      <td>(31.501733, 121.334549)</td>\n",
       "    </tr>\n",
       "    <tr>\n",
       "      <th>2750</th>\n",
       "      <td>30752.0</td>\n",
       "      <td>(31.50595, 121.282812)</td>\n",
       "    </tr>\n",
       "    <tr>\n",
       "      <th>2751</th>\n",
       "      <td>228.0</td>\n",
       "      <td>(31.571904, 121.158978)</td>\n",
       "    </tr>\n",
       "    <tr>\n",
       "      <th>2752</th>\n",
       "      <td>535390.0</td>\n",
       "      <td>(32.902077, 109.42358)</td>\n",
       "    </tr>\n",
       "    <tr>\n",
       "      <th>2753</th>\n",
       "      <td>54570.0</td>\n",
       "      <td>(34.556383, 118.79231)</td>\n",
       "    </tr>\n",
       "    <tr>\n",
       "      <th>2754</th>\n",
       "      <td>651912.0</td>\n",
       "      <td>(34.638922, 119.467017)</td>\n",
       "    </tr>\n",
       "    <tr>\n",
       "      <th>2755</th>\n",
       "      <td>1840438.0</td>\n",
       "      <td>(34.689694, 112.407126)</td>\n",
       "    </tr>\n",
       "    <tr>\n",
       "      <th>2756</th>\n",
       "      <td>140388.0</td>\n",
       "      <td>(34.798608, 116.090395)</td>\n",
       "    </tr>\n",
       "    <tr>\n",
       "      <th>2757</th>\n",
       "      <td>659159.0</td>\n",
       "      <td>(35.24116, 113.276351)</td>\n",
       "    </tr>\n",
       "    <tr>\n",
       "      <th>2758</th>\n",
       "      <td>1979085.0</td>\n",
       "      <td>(35.379598, 116.072359)</td>\n",
       "    </tr>\n",
       "    <tr>\n",
       "      <th>2759</th>\n",
       "      <td>20813.0</td>\n",
       "      <td>(35.522852, 102.0076)</td>\n",
       "    </tr>\n",
       "    <tr>\n",
       "      <th>2760</th>\n",
       "      <td>1242016.0</td>\n",
       "      <td>(36.406412, 102.003965)</td>\n",
       "    </tr>\n",
       "    <tr>\n",
       "      <th>2761</th>\n",
       "      <td>1049699.0</td>\n",
       "      <td>(38.052584, 114.484137)</td>\n",
       "    </tr>\n",
       "    <tr>\n",
       "      <th>2762</th>\n",
       "      <td>189291.0</td>\n",
       "      <td>(39.084494, 117.236165)</td>\n",
       "    </tr>\n",
       "    <tr>\n",
       "      <th>2763</th>\n",
       "      <td>51650.0</td>\n",
       "      <td>(39.612987, 118.20604)</td>\n",
       "    </tr>\n",
       "    <tr>\n",
       "      <th>2764</th>\n",
       "      <td>15654.0</td>\n",
       "      <td>(41.677262, 125.960124)</td>\n",
       "    </tr>\n",
       "    <tr>\n",
       "      <th>2765</th>\n",
       "      <td>106027.0</td>\n",
       "      <td>(41.835279, 123.498927)</td>\n",
       "    </tr>\n",
       "    <tr>\n",
       "      <th>2766</th>\n",
       "      <td>92737.0</td>\n",
       "      <td>(46.247857, 128.762232)</td>\n",
       "    </tr>\n",
       "    <tr>\n",
       "      <th>2767</th>\n",
       "      <td>1808387.0</td>\n",
       "      <td>(46.777465, 131.812182)</td>\n",
       "    </tr>\n",
       "    <tr>\n",
       "      <th>2768</th>\n",
       "      <td>1949.0</td>\n",
       "      <td>(47.35092, 130.301233)</td>\n",
       "    </tr>\n",
       "  </tbody>\n",
       "</table>\n",
       "<p>2769 rows × 2 columns</p>\n",
       "</div>"
      ],
      "text/plain": [
       "       workload                 location\n",
       "0     1507810.0  (22.522803, 114.218796)\n",
       "1      643543.0  (24.284812, 102.999068)\n",
       "2       50378.0  (25.222206, 117.086322)\n",
       "3     3755547.0  (26.139329, 103.078562)\n",
       "4      763464.0  (26.215115, 109.744661)\n",
       "5       81696.0  (28.738742, 120.640606)\n",
       "6        5385.0  (28.812629, 115.952954)\n",
       "7        4810.0  (29.151779, 120.985563)\n",
       "8      590670.0  (29.263844, 115.023159)\n",
       "9      849378.0  (29.526266, 119.910488)\n",
       "10     217950.0  (30.442177, 120.618727)\n",
       "11       1137.0  (30.679943, 104.067923)\n",
       "12     378660.0   (30.705762, 121.33512)\n",
       "13    1298240.0  (30.715526, 121.351073)\n",
       "14      90813.0  (30.716044, 121.291037)\n",
       "15    1707765.0  (30.716187, 121.349498)\n",
       "16     148788.0  (30.718108, 121.283169)\n",
       "17     379693.0  (30.718302, 121.314644)\n",
       "18    1749557.0  (30.719537, 121.355948)\n",
       "19     100794.0  (30.719644, 121.345988)\n",
       "20      27412.0  (30.721392, 121.345766)\n",
       "21     745926.0  (30.723654, 121.330778)\n",
       "22    1138165.0   (30.72456, 121.344043)\n",
       "23     261159.0  (30.730296, 121.342643)\n",
       "24      19565.0  (30.730789, 121.343497)\n",
       "25    2041405.0  (30.731903, 121.334173)\n",
       "26     285603.0  (30.733903, 121.341904)\n",
       "27    1074772.0   (30.73407, 121.350673)\n",
       "28     138107.0   (30.734301, 121.25722)\n",
       "29      10528.0  (30.735262, 121.351726)\n",
       "...         ...                      ...\n",
       "2739   138438.0  (31.469563, 121.384552)\n",
       "2740   327851.0  (31.473557, 121.331298)\n",
       "2741   351262.0  (31.475425, 121.356951)\n",
       "2742   414587.0   (31.48259, 121.348661)\n",
       "2743    21157.0  (31.483764, 121.274813)\n",
       "2744     8812.0  (31.486771, 121.360405)\n",
       "2745   245868.0  (31.488248, 121.349833)\n",
       "2746    86551.0  (31.492475, 121.328439)\n",
       "2747   159320.0  (31.492988, 121.292044)\n",
       "2748       77.0  (31.497375, 121.324955)\n",
       "2749    20066.0  (31.501733, 121.334549)\n",
       "2750    30752.0   (31.50595, 121.282812)\n",
       "2751      228.0  (31.571904, 121.158978)\n",
       "2752   535390.0   (32.902077, 109.42358)\n",
       "2753    54570.0   (34.556383, 118.79231)\n",
       "2754   651912.0  (34.638922, 119.467017)\n",
       "2755  1840438.0  (34.689694, 112.407126)\n",
       "2756   140388.0  (34.798608, 116.090395)\n",
       "2757   659159.0   (35.24116, 113.276351)\n",
       "2758  1979085.0  (35.379598, 116.072359)\n",
       "2759    20813.0    (35.522852, 102.0076)\n",
       "2760  1242016.0  (36.406412, 102.003965)\n",
       "2761  1049699.0  (38.052584, 114.484137)\n",
       "2762   189291.0  (39.084494, 117.236165)\n",
       "2763    51650.0   (39.612987, 118.20604)\n",
       "2764    15654.0  (41.677262, 125.960124)\n",
       "2765   106027.0  (41.835279, 123.498927)\n",
       "2766    92737.0  (46.247857, 128.762232)\n",
       "2767  1808387.0  (46.777465, 131.812182)\n",
       "2768     1949.0   (47.35092, 130.301233)\n",
       "\n",
       "[2769 rows x 2 columns]"
      ]
     },
     "execution_count": 4,
     "metadata": {},
     "output_type": "execute_result"
    }
   ],
   "source": [
    "telco_data_subset"
   ]
  },
  {
   "cell_type": "code",
   "execution_count": 5,
   "metadata": {},
   "outputs": [],
   "source": [
    "import matplotlib.pyplot as plt "
   ]
  },
  {
   "cell_type": "code",
   "execution_count": 6,
   "metadata": {},
   "outputs": [
    {
     "name": "stdout",
     "output_type": "stream",
     "text": [
      "2769\n",
      "2769\n",
      "22.522803\n",
      "114.218796\n"
     ]
    }
   ],
   "source": [
    "Xvalues = []\n",
    "Yvalues = []\n",
    "\n",
    "for x in telco_data_subset['location']:\n",
    "    Xvalues.append(x[0])\n",
    "    \n",
    "for x in telco_data_subset['location']:\n",
    "    Yvalues.append(x[1])\n",
    "\n",
    "print(len(Xvalues))\n",
    "print(len(Yvalues))\n",
    "\n",
    "print(Xvalues[0])\n",
    "print(Yvalues[0])"
   ]
  },
  {
   "cell_type": "code",
   "execution_count": 7,
   "metadata": {},
   "outputs": [
    {
     "data": {
      "image/png": "[encoded data removed]",
      "text/plain": [
       "<Figure size 432x288 with 1 Axes>"
      ]
     },
     "metadata": {
      "needs_background": "light"
     },
     "output_type": "display_data"
    }
   ],
   "source": [
    "plt.scatter(Xvalues, Yvalues) \n",
    "\n",
    "plt.show() "
   ]
  },
  {
   "cell_type": "code",
   "execution_count": 8,
   "metadata": {},
   "outputs": [],
   "source": [
    "Workloads = []\n",
    "\n",
    "for x in telco_data_subset['workload']:\n",
    "    Workloads.append(x)"
   ]
  },
  {
   "cell_type": "code",
   "execution_count": 9,
   "metadata": {},
   "outputs": [
    {
     "name": "stdout",
     "output_type": "stream",
     "text": [
      "2769\n",
      "1507810.0\n"
     ]
    }
   ],
   "source": [
    "print(len(Workloads))\n",
    "\n",
    "print(Workloads[0])"
   ]
  },
  {
   "cell_type": "code",
   "execution_count": 10,
   "metadata": {},
   "outputs": [],
   "source": [
    "from sklearn import preprocessing\n",
    "import numpy as np"
   ]
  },
  {
   "cell_type": "code",
   "execution_count": 11,
   "metadata": {},
   "outputs": [
    {
     "name": "stdout",
     "output_type": "stream",
     "text": [
      "0.03652504786776155\n",
      "3.652504786776155\n"
     ]
    }
   ],
   "source": [
    "normalized_arr = preprocessing.normalize([Workloads])\n",
    "\n",
    "Resized = []\n",
    "\n",
    "for x in normalized_arr[0]:\n",
    "    Resized.append(x*100)\n",
    "\n",
    "print(normalized_arr[0][0])\n",
    "print(Resized[0])"
   ]
  },
  {
   "cell_type": "code",
   "execution_count": 12,
   "metadata": {},
   "outputs": [
    {
     "data": {
      "image/png": "[encoded data removed]",
      "text/plain": [
       "<Figure size 432x288 with 1 Axes>"
      ]
     },
     "metadata": {
      "needs_background": "light"
     },
     "output_type": "display_data"
    }
   ],
   "source": [
    "plt.scatter(Xvalues, Yvalues, s=Resized) \n",
    "plt.show() "
   ]
  },
  {
   "cell_type": "code",
   "execution_count": 13,
   "metadata": {},
   "outputs": [],
   "source": [
    "#import sklearn\n",
    "from sklearn.cluster import KMeans"
   ]
  },
  {
   "cell_type": "code",
   "execution_count": null,
   "metadata": {},
   "outputs": [],
   "source": []
  },
  {
   "cell_type": "code",
   "execution_count": null,
   "metadata": {},
   "outputs": [],
   "source": []
  },
  {
   "cell_type": "code",
   "execution_count": 14,
   "metadata": {},
   "outputs": [],
   "source": [
    "NewXArray = []\n",
    "NewX = []\n",
    "\n",
    "for x in range(len(Xvalues)):\n",
    "    NewX.append(Xvalues[x])\n",
    "    NewX.append(Yvalues[x])\n",
    "    NewXArray.append(NewX[:])\n",
    "    NewX.clear()\n",
    "    "
   ]
  },
  {
   "cell_type": "code",
   "execution_count": 15,
   "metadata": {},
   "outputs": [],
   "source": [
    "Temp = np.array(NewXArray)"
   ]
  },
  {
   "cell_type": "code",
   "execution_count": 16,
   "metadata": {},
   "outputs": [
    {
     "name": "stdout",
     "output_type": "stream",
     "text": [
      "[[ 22.522803 114.218796]\n",
      " [ 24.284812 102.999068]\n",
      " [ 25.222206 117.086322]\n",
      " ...\n",
      " [ 46.247857 128.762232]\n",
      " [ 46.777465 131.812182]\n",
      " [ 47.35092  130.301233]]\n"
     ]
    }
   ],
   "source": [
    "print(Temp)"
   ]
  },
  {
   "cell_type": "code",
   "execution_count": 17,
   "metadata": {},
   "outputs": [],
   "source": [
    "km = KMeans(\n",
    "    n_clusters=3, init='random',\n",
    "    n_init=10, max_iter=300, \n",
    "    tol=1e-04, random_state=0\n",
    ")\n",
    "y_km = km.fit_predict(Temp)"
   ]
  },
  {
   "cell_type": "code",
   "execution_count": 18,
   "metadata": {},
   "outputs": [
    {
     "name": "stdout",
     "output_type": "stream",
     "text": [
      "[1 1 2 ... 0 0 0]\n"
     ]
    }
   ],
   "source": [
    "print(y_km)"
   ]
  },
  {
   "cell_type": "code",
   "execution_count": 19,
   "metadata": {},
   "outputs": [
    {
     "data": {
      "image/png": "[encoded data removed]",
      "text/plain": [
       "<Figure size 432x288 with 1 Axes>"
      ]
     },
     "metadata": {
      "needs_background": "light"
     },
     "output_type": "display_data"
    }
   ],
   "source": [
    "# plot the 3 clusters\n",
    "plt.scatter(\n",
    "    Temp[y_km == 0, 0], Temp[y_km == 0, 1],\n",
    "    s=50, c='lightgreen',\n",
    "    marker='s', edgecolor='black',\n",
    "    label='cluster 1'\n",
    ")\n",
    "\n",
    "plt.scatter(\n",
    "    Temp[y_km == 1, 0], Temp[y_km == 1, 1],\n",
    "    s=50, c='orange',\n",
    "    marker='o', edgecolor='black',\n",
    "    label='cluster 2'\n",
    ")\n",
    "\n",
    "plt.scatter(\n",
    "    Temp[y_km == 2, 0], Temp[y_km == 2, 1],\n",
    "    s=50, c='lightblue',\n",
    "    marker='v', edgecolor='black',\n",
    "    label='cluster 3'\n",
    ")\n",
    "\n",
    "# plot the centroids\n",
    "plt.scatter(\n",
    "    km.cluster_centers_[:, 0], km.cluster_centers_[:, 1],\n",
    "    s=250, marker='*',\n",
    "    c='red', edgecolor='black',\n",
    "    label='centroids'\n",
    ")\n",
    "plt.legend(scatterpoints=1)\n",
    "plt.grid()\n",
    "plt.show()"
   ]
  },
  {
   "cell_type": "code",
   "execution_count": 20,
   "metadata": {},
   "outputs": [
    {
     "data": {
      "image/png": "[encoded data removed]",
      "text/plain": [
       "<Figure size 432x288 with 1 Axes>"
      ]
     },
     "metadata": {
      "needs_background": "light"
     },
     "output_type": "display_data"
    }
   ],
   "source": [
    "km = KMeans(\n",
    "    n_clusters=1, init='random',\n",
    "    n_init=10, max_iter=300, \n",
    "    tol=1e-04, random_state=0\n",
    ")\n",
    "y_km = km.fit_predict(Temp)\n",
    "\n",
    "\n",
    "plt.scatter(Xvalues, Yvalues) \n",
    "\n",
    "\n",
    "# plot the centroids\n",
    "plt.scatter(\n",
    "    km.cluster_centers_[:, 0], km.cluster_centers_[:, 1],\n",
    "    s=250, marker='*',\n",
    "    c='red', edgecolor='black',\n",
    "    label='centroids'\n",
    ")\n",
    "plt.legend(scatterpoints=1)\n",
    "plt.grid()\n",
    "plt.show()"
   ]
  },
  {
   "cell_type": "code",
   "execution_count": 21,
   "metadata": {},
   "outputs": [
    {
     "name": "stdout",
     "output_type": "stream",
     "text": [
      "[[ 31.21127429 121.37692724]]\n"
     ]
    }
   ],
   "source": [
    "print(km.cluster_centers_)"
   ]
  },
  {
   "cell_type": "code",
   "execution_count": 22,
   "metadata": {},
   "outputs": [
    {
     "name": "stdout",
     "output_type": "stream",
     "text": [
      "[ 31.21127429 121.37692724]\n"
     ]
    }
   ],
   "source": [
    "print(km.cluster_centers_[0])"
   ]
  },
  {
   "cell_type": "code",
   "execution_count": 23,
   "metadata": {},
   "outputs": [
    {
     "name": "stdout",
     "output_type": "stream",
     "text": [
      "[0 0 0 ... 0 0 0]\n"
     ]
    }
   ],
   "source": [
    "print(y_km)"
   ]
  },
  {
   "cell_type": "code",
   "execution_count": 24,
   "metadata": {},
   "outputs": [],
   "source": [
    "solutionset = []\n",
    "\n",
    "for x in y_km:\n",
    "    solutionset.append(km.cluster_centers_[x])\n",
    "    "
   ]
  },
  {
   "cell_type": "code",
   "execution_count": 25,
   "metadata": {},
   "outputs": [
    {
     "name": "stdout",
     "output_type": "stream",
     "text": [
      "[ 31.21127429 121.37692724]\n"
     ]
    }
   ],
   "source": [
    "print(solutionset[0])"
   ]
  },
  {
   "cell_type": "code",
   "execution_count": null,
   "metadata": {},
   "outputs": [],
   "source": []
  },
  {
   "cell_type": "code",
   "execution_count": null,
   "metadata": {},
   "outputs": [],
   "source": []
  },
  {
   "cell_type": "code",
   "execution_count": null,
   "metadata": {},
   "outputs": [],
   "source": []
  },
  {
   "cell_type": "code",
   "execution_count": null,
   "metadata": {},
   "outputs": [],
   "source": []
  },
  {
   "cell_type": "code",
   "execution_count": 26,
   "metadata": {},
   "outputs": [
    {
     "name": "stdout",
     "output_type": "stream",
     "text": [
      "[114.218796 102.999068 117.086322 ... 128.762232 131.812182 130.301233]\n"
     ]
    }
   ],
   "source": [
    "print(Temp[y_km == 0, 1])"
   ]
  },
  {
   "cell_type": "code",
   "execution_count": 27,
   "metadata": {},
   "outputs": [],
   "source": [
    "from geopy import distance"
   ]
  },
  {
   "cell_type": "code",
   "execution_count": 28,
   "metadata": {},
   "outputs": [],
   "source": [
    "def accessDelay(solution, data):\n",
    "    delay = 0\n",
    "    i = 0\n",
    "    for location in solution:\n",
    "        delay += distance.distance(location,data[i]).km\n",
    "        i+=1\n",
    "    return delay\n",
    "def workloadBalance(solution, data):\n",
    "    servers = dict.fromkeys(solution,0)\n",
    "    for index,row in data.iterrows():\n",
    "        servers[solution[index]] +=  row['workload']\n",
    "    total = 0\n",
    "    mean = sum(servers.keys())/len(servers)\n",
    "    for key,value in servers.items():\n",
    "        total += (value - mean)**2\n",
    "    return np.sqrt(total/len(servers))"
   ]
  },
  {
   "cell_type": "code",
   "execution_count": 29,
   "metadata": {},
   "outputs": [
    {
     "name": "stdout",
     "output_type": "stream",
     "text": [
      "1196.2097704331702\n"
     ]
    }
   ],
   "source": [
    "print(distance.distance(solutionset[0],Temp[0]).km)"
   ]
  },
  {
   "cell_type": "code",
   "execution_count": 30,
   "metadata": {},
   "outputs": [
    {
     "name": "stdout",
     "output_type": "stream",
     "text": [
      "(24.284812, 102.999068)\n"
     ]
    }
   ],
   "source": [
    "print(telco_data_subset.iloc[1]['location'])"
   ]
  },
  {
   "cell_type": "code",
   "execution_count": 31,
   "metadata": {},
   "outputs": [
    {
     "name": "stdout",
     "output_type": "stream",
     "text": [
      "81761.69839366578\n"
     ]
    }
   ],
   "source": [
    "print(accessDelay(solutionset, Temp))"
   ]
  },
  {
   "cell_type": "code",
   "execution_count": null,
   "metadata": {},
   "outputs": [],
   "source": []
  },
  {
   "cell_type": "code",
   "execution_count": null,
   "metadata": {},
   "outputs": [],
   "source": []
  },
  {
   "cell_type": "code",
   "execution_count": 32,
   "metadata": {},
   "outputs": [
    {
     "data": {
      "image/png": "[encoded data removed]",
      "text/plain": [
       "<Figure size 432x288 with 1 Axes>"
      ]
     },
     "metadata": {
      "needs_background": "light"
     },
     "output_type": "display_data"
    }
   ],
   "source": [
    "km = KMeans(\n",
    "    n_clusters=2, init='random',\n",
    "    n_init=10, max_iter=300, \n",
    "    tol=1e-04, random_state=0\n",
    ")\n",
    "y_km = km.fit_predict(Temp)\n",
    "\n",
    "\n",
    "plt.scatter(Xvalues, Yvalues) \n",
    "\n",
    "\n",
    "# plot the centroids\n",
    "plt.scatter(\n",
    "    km.cluster_centers_[:, 0], km.cluster_centers_[:, 1],\n",
    "    s=250, marker='*',\n",
    "    c='red', edgecolor='black',\n",
    "    label='centroids'\n",
    ")\n",
    "plt.legend(scatterpoints=1)\n",
    "plt.grid()\n",
    "plt.show()"
   ]
  },
  {
   "cell_type": "code",
   "execution_count": 33,
   "metadata": {},
   "outputs": [
    {
     "name": "stdout",
     "output_type": "stream",
     "text": [
      "[[ 31.21222266 121.43270824]\n",
      " [ 30.99338542 108.561244  ]]\n"
     ]
    }
   ],
   "source": [
    "print(km.cluster_centers_)"
   ]
  },
  {
   "cell_type": "code",
   "execution_count": 34,
   "metadata": {},
   "outputs": [
    {
     "name": "stdout",
     "output_type": "stream",
     "text": [
      "[1 1 0 ... 0 0 0]\n"
     ]
    }
   ],
   "source": [
    "print(y_km)"
   ]
  },
  {
   "cell_type": "code",
   "execution_count": 35,
   "metadata": {},
   "outputs": [],
   "source": [
    "solutionset = []\n",
    "\n",
    "for x in y_km:\n",
    "    solutionset.append(km.cluster_centers_[x])\n",
    "    "
   ]
  },
  {
   "cell_type": "code",
   "execution_count": 36,
   "metadata": {},
   "outputs": [
    {
     "name": "stdout",
     "output_type": "stream",
     "text": [
      "69810.69701621193\n"
     ]
    }
   ],
   "source": [
    "print(accessDelay(solutionset, Temp))"
   ]
  },
  {
   "cell_type": "code",
   "execution_count": 37,
   "metadata": {},
   "outputs": [
    {
     "name": "stdout",
     "output_type": "stream",
     "text": [
      "922371190.1761065\n"
     ]
    }
   ],
   "source": [
    "print(workloadBalance(y_km, telco_data_subset))"
   ]
  },
  {
   "cell_type": "code",
   "execution_count": null,
   "metadata": {},
   "outputs": [],
   "source": []
  },
  {
   "cell_type": "code",
   "execution_count": null,
   "metadata": {},
   "outputs": [],
   "source": []
  },
  {
   "cell_type": "code",
   "execution_count": null,
   "metadata": {},
   "outputs": [],
   "source": []
  },
  {
   "cell_type": "code",
   "execution_count": 38,
   "metadata": {},
   "outputs": [
    {
     "data": {
      "image/png": "[encoded data removed]",
      "text/plain": [
       "<Figure size 432x288 with 1 Axes>"
      ]
     },
     "metadata": {
      "needs_background": "light"
     },
     "output_type": "display_data"
    }
   ],
   "source": [
    "km = KMeans(\n",
    "    n_clusters=5, init='random',\n",
    "    n_init=10, max_iter=300, \n",
    "    tol=1e-04, random_state=0\n",
    ")\n",
    "y_km = km.fit_predict(Temp)\n",
    "\n",
    "\n",
    "plt.scatter(Xvalues, Yvalues) \n",
    "\n",
    "\n",
    "# plot the centroids\n",
    "plt.scatter(\n",
    "    km.cluster_centers_[:, 0], km.cluster_centers_[:, 1],\n",
    "    s=250, marker='*',\n",
    "    c='red', edgecolor='black',\n",
    "    label='centroids'\n",
    ")\n",
    "plt.legend(scatterpoints=1)\n",
    "plt.grid()\n",
    "plt.show()"
   ]
  },
  {
   "cell_type": "code",
   "execution_count": 39,
   "metadata": {},
   "outputs": [
    {
     "name": "stdout",
     "output_type": "stream",
     "text": [
      "[[ 44.7777566  128.0669396 ]\n",
      " [ 29.33416787 105.94301937]\n",
      " [ 31.2257351  121.4750516 ]\n",
      " [ 36.22827    116.22576667]\n",
      " [ 30.94530259 121.20383783]]\n"
     ]
    }
   ],
   "source": [
    "print(km.cluster_centers_)"
   ]
  },
  {
   "cell_type": "code",
   "execution_count": 40,
   "metadata": {},
   "outputs": [
    {
     "name": "stdout",
     "output_type": "stream",
     "text": [
      "[1 1 4 ... 0 0 0]\n"
     ]
    }
   ],
   "source": [
    "print(y_km)"
   ]
  },
  {
   "cell_type": "code",
   "execution_count": 41,
   "metadata": {},
   "outputs": [],
   "source": [
    "solutionset = []\n",
    "\n",
    "for x in y_km:\n",
    "    solutionset.append(km.cluster_centers_[x])"
   ]
  },
  {
   "cell_type": "code",
   "execution_count": 42,
   "metadata": {},
   "outputs": [
    {
     "name": "stdout",
     "output_type": "stream",
     "text": [
      "49237.64426510517\n",
      "493714555.33654016\n"
     ]
    }
   ],
   "source": [
    "print(accessDelay(solutionset, Temp))\n",
    "print(workloadBalance(y_km, telco_data_subset))"
   ]
  },
  {
   "cell_type": "code",
   "execution_count": null,
   "metadata": {},
   "outputs": [],
   "source": []
  },
  {
   "cell_type": "code",
   "execution_count": 43,
   "metadata": {},
   "outputs": [
    {
     "data": {
      "image/png": "[encoded data removed]",
      "text/plain": [
       "<Figure size 432x288 with 1 Axes>"
      ]
     },
     "metadata": {
      "needs_background": "light"
     },
     "output_type": "display_data"
    },
    {
     "name": "stdout",
     "output_type": "stream",
     "text": [
      "33593.570180006456\n",
      "211474484.1099888\n"
     ]
    }
   ],
   "source": [
    "km = KMeans(\n",
    "    n_clusters=10, init='random',\n",
    "    n_init=10, max_iter=300, \n",
    "    tol=1e-04, random_state=0\n",
    ")\n",
    "y_km = km.fit_predict(Temp)\n",
    "\n",
    "\n",
    "plt.scatter(Xvalues, Yvalues) \n",
    "\n",
    "\n",
    "# plot the centroids\n",
    "plt.scatter(\n",
    "    km.cluster_centers_[:, 0], km.cluster_centers_[:, 1],\n",
    "    s=250, marker='*',\n",
    "    c='red', edgecolor='black',\n",
    "    label='centroids'\n",
    ")\n",
    "plt.legend(scatterpoints=1)\n",
    "plt.grid()\n",
    "plt.show()\n",
    "\n",
    "solutionset = []\n",
    "\n",
    "for x in y_km:\n",
    "    solutionset.append(km.cluster_centers_[x])\n",
    "    \n",
    "print(accessDelay(solutionset, Temp))\n",
    "print(workloadBalance(y_km, telco_data_subset))"
   ]
  },
  {
   "cell_type": "code",
   "execution_count": null,
   "metadata": {},
   "outputs": [],
   "source": []
  },
  {
   "cell_type": "code",
   "execution_count": null,
   "metadata": {},
   "outputs": [],
   "source": []
  },
  {
   "cell_type": "code",
   "execution_count": null,
   "metadata": {},
   "outputs": [],
   "source": []
  },
  {
   "cell_type": "code",
   "execution_count": 48,
   "metadata": {},
   "outputs": [],
   "source": [
    "ads = []\n",
    "wbs = []\n",
    "\n",
    "server_counts = []\n",
    "\n",
    "for server_count in range(5,26,5):\n",
    "    server_counts.append(server_count)\n",
    "    km = KMeans(\n",
    "        n_clusters=server_count, init='random',\n",
    "        n_init=10, max_iter=300, \n",
    "        tol=1e-04, random_state=0\n",
    "    )\n",
    "    y_km = km.fit_predict(Temp)\n",
    "    \n",
    "    solutionset = []\n",
    "\n",
    "    for x in y_km:\n",
    "        solutionset.append(km.cluster_centers_[x])\n",
    "    \n",
    "    ads.append(accessDelay(solutionset, Temp))\n",
    "    wbs.append(workloadBalance(y_km, telco_data_subset))\n",
    "\n",
    "\n"
   ]
  },
  {
   "cell_type": "code",
   "execution_count": 49,
   "metadata": {},
   "outputs": [
    {
     "name": "stdout",
     "output_type": "stream",
     "text": [
      "[49237.64426510517, 33593.570180006456, 28455.074330179676, 24186.581811155065, 21392.251791692506]\n",
      "[493714555.33654016, 211474484.1099888, 129826234.75692092, 84333237.69525512, 69321416.47406203]\n"
     ]
    },
    {
     "data": {
      "image/png": "[encoded data removed]",
      "text/plain": [
       "<Figure size 432x288 with 1 Axes>"
      ]
     },
     "metadata": {
      "needs_background": "light"
     },
     "output_type": "display_data"
    },
    {
     "data": {
      "image/png": "[encoded data removed]",
      "text/plain": [
       "<Figure size 432x288 with 1 Axes>"
      ]
     },
     "metadata": {
      "needs_background": "light"
     },
     "output_type": "display_data"
    }
   ],
   "source": [
    "print(ads)\n",
    "print(wbs)\n",
    "plt.xlabel(\"Number of Edge Servers\")\n",
    "plt.ylabel(\"Workload Balance\")\n",
    "plt.scatter(server_counts,wbs)\n",
    "plt.show()\n",
    "plt.xlabel(\"Number of Edge Servers\")\n",
    "plt.ylabel(\"Access Delay\")\n",
    "plt.scatter(server_counts,ads)\n",
    "plt.show()"
   ]
  },
  {
   "cell_type": "code",
   "execution_count": 1,
   "metadata": {},
   "outputs": [],
   "source": [
    "import pandas as pd"
   ]
  },
  {
   "cell_type": "code",
   "execution_count": 6,
   "metadata": {},
   "outputs": [],
   "source": [
    "import matplotlib.pyplot as plt "
   ]
  },
  {
   "cell_type": "code",
   "execution_count": 8,
   "metadata": {},
   "outputs": [],
   "source": [
    "from sklearn.cluster import KMeans"
   ]
  },
  {
   "cell_type": "code",
   "execution_count": 11,
   "metadata": {},
   "outputs": [],
   "source": [
    "import numpy as np"
   ]
  },
  {
   "cell_type": "code",
   "execution_count": 12,
   "metadata": {},
   "outputs": [],
   "source": [
    "from geopy import distance"
   ]
  },
  {
   "cell_type": "code",
   "execution_count": 2,
   "metadata": {},
   "outputs": [],
   "source": [
    "df = pd.read_pickle('200accesspointdata.pickle')"
   ]
  },
  {
   "cell_type": "code",
   "execution_count": 3,
   "metadata": {},
   "outputs": [
    {
     "name": "stdout",
     "output_type": "stream",
     "text": [
      "     index   workload                 location\n",
      "0     2303   325418.0  (31.293762, 121.442609)\n",
      "1      477  1391213.0  (31.045834, 121.408322)\n",
      "2     1179  1052940.0  (31.201965, 121.452457)\n",
      "3     1852       14.0    (31.24672, 121.38645)\n",
      "4     1469  1336278.0  (31.225266, 121.444323)\n",
      "..     ...        ...                      ...\n",
      "195   1679   118810.0  (31.237435, 121.455917)\n",
      "196   1447    11267.0  (31.223721, 121.482534)\n",
      "197    170   165873.0  (30.894923, 121.319564)\n",
      "198   1308    10799.0     (31.21351, 121.3728)\n",
      "199   2752   535390.0   (32.902077, 109.42358)\n",
      "\n",
      "[200 rows x 3 columns]\n"
     ]
    }
   ],
   "source": [
    "print(df)"
   ]
  },
  {
   "cell_type": "code",
   "execution_count": 4,
   "metadata": {},
   "outputs": [
    {
     "name": "stdout",
     "output_type": "stream",
     "text": [
      "200\n",
      "200\n",
      "31.293762\n",
      "121.442609\n"
     ]
    }
   ],
   "source": [
    "Xvalues = []\n",
    "Yvalues = []\n",
    "\n",
    "for x in df['location']:\n",
    "    Xvalues.append(x[0])\n",
    "    \n",
    "for x in df['location']:\n",
    "    Yvalues.append(x[1])\n",
    "\n",
    "print(len(Xvalues))\n",
    "print(len(Yvalues))\n",
    "\n",
    "print(Xvalues[0])\n",
    "print(Yvalues[0])"
   ]
  },
  {
   "cell_type": "code",
   "execution_count": 7,
   "metadata": {},
   "outputs": [
    {
     "data": {
      "image/png": "[encoded data removed]",
      "text/plain": [
       "<Figure size 432x288 with 1 Axes>"
      ]
     },
     "metadata": {
      "needs_background": "light"
     },
     "output_type": "display_data"
    }
   ],
   "source": [
    "plt.scatter(Xvalues, Yvalues) \n",
    "\n",
    "plt.show() "
   ]
  },
  {
   "cell_type": "code",
   "execution_count": 9,
   "metadata": {},
   "outputs": [],
   "source": [
    "NewXArray = []\n",
    "NewX = []\n",
    "\n",
    "for x in range(len(Xvalues)):\n",
    "    NewX.append(Xvalues[x])\n",
    "    NewX.append(Yvalues[x])\n",
    "    NewXArray.append(NewX[:])\n",
    "    NewX.clear()\n",
    "    "
   ]
  },
  {
   "cell_type": "code",
   "execution_count": 14,
   "metadata": {},
   "outputs": [],
   "source": [
    "Temp = np.array(NewXArray)"
   ]
  },
  {
   "cell_type": "code",
   "execution_count": 15,
   "metadata": {},
   "outputs": [],
   "source": [
    "km = KMeans(\n",
    "    n_clusters=20, init='random',\n",
    "    n_init=10, max_iter=300, \n",
    "    tol=1e-04, random_state=0\n",
    ")\n",
    "y_km = km.fit_predict(Temp)"
   ]
  },
  {
   "cell_type": "code",
   "execution_count": 17,
   "metadata": {},
   "outputs": [],
   "source": [
    "def accessDelay(solution, data):\n",
    "    delay = 0\n",
    "    i = 0\n",
    "    for location in solution:\n",
    "        delay += distance.distance(location,data[i]).km\n",
    "        i+=1\n",
    "    return delay\n",
    "def workloadBalance(solution, data):\n",
    "    servers = dict.fromkeys(solution,0)\n",
    "    for index,row in data.iterrows():\n",
    "        servers[solution[index]] +=  row['workload']\n",
    "    total = 0\n",
    "    mean = sum(servers.values())/len(servers)\n",
    "    for key,value in servers.items():\n",
    "        total += (value - mean)**2\n",
    "    return np.sqrt(total/len(servers))"
   ]
  },
  {
   "cell_type": "code",
   "execution_count": 18,
   "metadata": {},
   "outputs": [
    {
     "data": {
      "image/png": "[encoded data removed]",
      "text/plain": [
       "<Figure size 432x288 with 1 Axes>"
      ]
     },
     "metadata": {
      "needs_background": "light"
     },
     "output_type": "display_data"
    }
   ],
   "source": [
    "plt.scatter(Xvalues, Yvalues) \n",
    "\n",
    "\n",
    "# plot the centroids\n",
    "plt.scatter(\n",
    "    km.cluster_centers_[:, 0], km.cluster_centers_[:, 1],\n",
    "    s=250, marker='*',\n",
    "    c='red', edgecolor='black',\n",
    "    label='centroids'\n",
    ")\n",
    "plt.legend(scatterpoints=1)\n",
    "plt.grid()\n",
    "plt.show()"
   ]
  },
  {
   "cell_type": "code",
   "execution_count": 19,
   "metadata": {},
   "outputs": [],
   "source": [
    "solutionset = []\n",
    "\n",
    "for x in y_km:\n",
    "    solutionset.append(km.cluster_centers_[x])"
   ]
  },
  {
   "cell_type": "code",
   "execution_count": 25,
   "metadata": {},
   "outputs": [
    {
     "name": "stdout",
     "output_type": "stream",
     "text": [
      "Access Delay 1643.1522023752152\n",
      "Workload Balance 3047333.3816899816\n"
     ]
    }
   ],
   "source": [
    "print(\"Access Delay \" + str(accessDelay(solutionset, Temp)))\n",
    "print(\"Workload Balance \" + str(workloadBalance(y_km, df)))"
   ]
  },
  {
   "cell_type": "code",
   "execution_count": null,
   "metadata": {},
   "outputs": [],
   "source": []
  },
  {
   "cell_type": "code",
   "execution_count": null,
   "metadata": {},
   "outputs": [],
   "source": []
  },
  {
   "cell_type": "code",
   "execution_count": 54,
   "metadata": {},
   "outputs": [],
   "source": []
  },
  {
   "cell_type": "code",
   "execution_count": null,
   "metadata": {},
   "outputs": [],
   "source": []
  }
 ],
 "metadata": {
  "kernelspec": {
   "display_name": "Python 3",
   "language": "python",
   "name": "python3"
  },
  "language_info": {
   "codemirror_mode": {
    "name": "ipython",
    "version": 3
   },
   "file_extension": ".py",
   "mimetype": "text/x-python",
   "name": "python",
   "nbconvert_exporter": "python",
   "pygments_lexer": "ipython3",
   "version": "3.7.0"
  }
 },
 "nbformat": 4,
 "nbformat_minor": 4
}
