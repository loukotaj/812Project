{
 "cells": [
  {
   "cell_type": "code",
   "execution_count": 1,
   "metadata": {
    "_cell_guid": "b1076dfc-b9ad-4769-8c92-a6c4dae69d19",
    "_uuid": "8f2839f25d086af736a60e9eeb907d3b93b6e0e5"
   },
   "outputs": [],
   "source": [
    "import numpy as np # linear algebra\n",
    "import pandas as pd # data processing, CSV file I/O (e.g. pd.read_csv)\n",
    "import seaborn as sbr\n",
    "import matplotlib.pyplot as mpl\n",
    "import datetime as dt\n",
    "import geopy.distance as distance\n"
   ]
  },
  {
   "cell_type": "code",
   "execution_count": 2,
   "metadata": {},
   "outputs": [
    {
     "name": "stdout",
     "output_type": "stream",
     "text": [
      "Requirement already satisfied: xlrd in c:\\users\\lenovo\\anaconda3\\lib\\site-packages (1.2.0)\n",
      "Note: you may need to restart the kernel to use updated packages.\n"
     ]
    }
   ],
   "source": [
    "pip install xlrd\n"
   ]
  },
  {
   "cell_type": "code",
   "execution_count": 3,
   "metadata": {},
   "outputs": [
    {
     "name": "stdout",
     "output_type": "stream",
     "text": [
      "Requirement already satisfied: openpyxl in c:\\users\\lenovo\\anaconda3\\lib\\site-packages (3.0.5)\n",
      "Requirement already satisfied: et-xmlfile in c:\\users\\lenovo\\anaconda3\\lib\\site-packages (from openpyxl) (1.0.1)\n",
      "Requirement already satisfied: jdcal in c:\\users\\lenovo\\anaconda3\\lib\\site-packages (from openpyxl) (1.4.1)\n",
      "Note: you may need to restart the kernel to use updated packages.\n"
     ]
    }
   ],
   "source": [
    "pip install openpyxl"
   ]
  },
  {
   "cell_type": "code",
   "execution_count": 4,
   "metadata": {},
   "outputs": [
    {
     "name": "stdout",
     "output_type": "stream",
     "text": [
      "Requirement already satisfied: geopy in c:\\users\\lenovo\\anaconda3\\lib\\site-packages (2.1.0)\n",
      "Requirement already satisfied: geographiclib<2,>=1.49 in c:\\users\\lenovo\\anaconda3\\lib\\site-packages (from geopy) (1.50)\n",
      "Note: you may need to restart the kernel to use updated packages.\n"
     ]
    }
   ],
   "source": [
    "pip install geopy "
   ]
  },
  {
   "cell_type": "markdown",
   "metadata": {},
   "source": [
    "## Read CSV & preprocess it into subset Dataframe\n"
   ]
  },
  {
   "cell_type": "code",
   "execution_count": 5,
   "metadata": {},
   "outputs": [],
   "source": [
    "df1=pd.read_excel(r\"C:\\Users\\lenovo\\Desktop\\MSU_GRAD\\Distributed Systems\\DIST-sYS-PROJECT\\datanew.xlsx\",sheet_name=\"sheet1\")\n",
    "df1=df1.dropna()\n",
    "\n",
    "#print(df2)"
   ]
  },
  {
   "cell_type": "markdown",
   "metadata": {},
   "source": [
    "## Computing Time Taken(durations~Workload balance) and Location of base stations."
   ]
  },
  {
   "cell_type": "code",
   "execution_count": 6,
   "metadata": {},
   "outputs": [
    {
     "name": "stderr",
     "output_type": "stream",
     "text": [
      "<ipython-input-6-f47fe272dbe1>:2: SettingWithCopyWarning: \n",
      "A value is trying to be set on a copy of a slice from a DataFrame.\n",
      "Try using .loc[row_indexer,col_indexer] = value instead\n",
      "\n",
      "See the caveats in the documentation: https://pandas.pydata.org/pandas-docs/stable/user_guide/indexing.html#returning-a-view-versus-a-copy\n",
      "  df2[\"Durations\"]=(df1[\"end time\"]-df1[\"start time\"]).dt.total_seconds()\n"
     ]
    },
    {
     "data": {
      "text/html": [
       "<div>\n",
       "<style scoped>\n",
       "    .dataframe tbody tr th:only-of-type {\n",
       "        vertical-align: middle;\n",
       "    }\n",
       "\n",
       "    .dataframe tbody tr th {\n",
       "        vertical-align: top;\n",
       "    }\n",
       "\n",
       "    .dataframe thead th {\n",
       "        text-align: right;\n",
       "    }\n",
       "</style>\n",
       "<table border=\"1\" class=\"dataframe\">\n",
       "  <thead>\n",
       "    <tr style=\"text-align: right;\">\n",
       "      <th></th>\n",
       "      <th>Durations</th>\n",
       "      <th>Combined_longitude_latitude</th>\n",
       "    </tr>\n",
       "  </thead>\n",
       "  <tbody>\n",
       "    <tr>\n",
       "      <th>0</th>\n",
       "      <td>1507810.0</td>\n",
       "      <td>(22.522803, 114.218796)</td>\n",
       "    </tr>\n",
       "    <tr>\n",
       "      <th>1</th>\n",
       "      <td>643543.0</td>\n",
       "      <td>(24.284812, 102.999068)</td>\n",
       "    </tr>\n",
       "    <tr>\n",
       "      <th>2</th>\n",
       "      <td>50378.0</td>\n",
       "      <td>(25.222206, 117.086322)</td>\n",
       "    </tr>\n",
       "    <tr>\n",
       "      <th>3</th>\n",
       "      <td>3755547.0</td>\n",
       "      <td>(26.139329, 103.078562)</td>\n",
       "    </tr>\n",
       "    <tr>\n",
       "      <th>4</th>\n",
       "      <td>763464.0</td>\n",
       "      <td>(26.215115, 109.744661)</td>\n",
       "    </tr>\n",
       "    <tr>\n",
       "      <th>...</th>\n",
       "      <td>...</td>\n",
       "      <td>...</td>\n",
       "    </tr>\n",
       "    <tr>\n",
       "      <th>2764</th>\n",
       "      <td>15654.0</td>\n",
       "      <td>(41.677262, 125.960124)</td>\n",
       "    </tr>\n",
       "    <tr>\n",
       "      <th>2765</th>\n",
       "      <td>106027.0</td>\n",
       "      <td>(41.835279, 123.498927)</td>\n",
       "    </tr>\n",
       "    <tr>\n",
       "      <th>2766</th>\n",
       "      <td>92737.0</td>\n",
       "      <td>(46.247857, 128.762232)</td>\n",
       "    </tr>\n",
       "    <tr>\n",
       "      <th>2767</th>\n",
       "      <td>1808387.0</td>\n",
       "      <td>(46.777465, 131.812182)</td>\n",
       "    </tr>\n",
       "    <tr>\n",
       "      <th>2768</th>\n",
       "      <td>1949.0</td>\n",
       "      <td>(47.35092, 130.301233)</td>\n",
       "    </tr>\n",
       "  </tbody>\n",
       "</table>\n",
       "<p>2769 rows × 2 columns</p>\n",
       "</div>"
      ],
      "text/plain": [
       "      Durations Combined_longitude_latitude\n",
       "0     1507810.0     (22.522803, 114.218796)\n",
       "1      643543.0     (24.284812, 102.999068)\n",
       "2       50378.0     (25.222206, 117.086322)\n",
       "3     3755547.0     (26.139329, 103.078562)\n",
       "4      763464.0     (26.215115, 109.744661)\n",
       "...         ...                         ...\n",
       "2764    15654.0     (41.677262, 125.960124)\n",
       "2765   106027.0     (41.835279, 123.498927)\n",
       "2766    92737.0     (46.247857, 128.762232)\n",
       "2767  1808387.0     (46.777465, 131.812182)\n",
       "2768     1949.0      (47.35092, 130.301233)\n",
       "\n",
       "[2769 rows x 2 columns]"
      ]
     },
     "execution_count": 6,
     "metadata": {},
     "output_type": "execute_result"
    }
   ],
   "source": [
    "df2=df1[[\"start time\",\"end time\",\"location(latitude/lontitude)\"]]\n",
    "df2[\"Durations\"]=(df1[\"end time\"]-df1[\"start time\"]).dt.total_seconds()\n",
    "df2=df2.groupby(by=\"location(latitude/lontitude)\").sum()\n",
    "df2=df2.reset_index()\n",
    "df2[\"Combined_longitude_latitude\"]=[tuple(y for y in x.split(\"/\")) for x in df2[\"location(latitude/lontitude)\"]]\n",
    "df2=df2[[\"Durations\",\"Combined_longitude_latitude\"]]\n",
    "df2\n"
   ]
  },
  {
   "cell_type": "markdown",
   "metadata": {},
   "source": [
    "## sample the data based on n\n"
   ]
  },
  {
   "cell_type": "code",
   "execution_count": 7,
   "metadata": {},
   "outputs": [
    {
     "name": "stdout",
     "output_type": "stream",
     "text": [
      "enter the total no of base_stations in the dataframe required for sampling 200\n"
     ]
    },
    {
     "data": {
      "text/html": [
       "<div>\n",
       "<style scoped>\n",
       "    .dataframe tbody tr th:only-of-type {\n",
       "        vertical-align: middle;\n",
       "    }\n",
       "\n",
       "    .dataframe tbody tr th {\n",
       "        vertical-align: top;\n",
       "    }\n",
       "\n",
       "    .dataframe thead th {\n",
       "        text-align: right;\n",
       "    }\n",
       "</style>\n",
       "<table border=\"1\" class=\"dataframe\">\n",
       "  <thead>\n",
       "    <tr style=\"text-align: right;\">\n",
       "      <th></th>\n",
       "      <th>Durations</th>\n",
       "      <th>Combined_longitude_latitude</th>\n",
       "    </tr>\n",
       "  </thead>\n",
       "  <tbody>\n",
       "    <tr>\n",
       "      <th>0</th>\n",
       "      <td>624728.0</td>\n",
       "      <td>(31.260165, 121.541462)</td>\n",
       "    </tr>\n",
       "    <tr>\n",
       "      <th>1</th>\n",
       "      <td>3353.0</td>\n",
       "      <td>(31.152571, 121.412981)</td>\n",
       "    </tr>\n",
       "    <tr>\n",
       "      <th>2</th>\n",
       "      <td>396751.0</td>\n",
       "      <td>(30.905367, 121.832974)</td>\n",
       "    </tr>\n",
       "    <tr>\n",
       "      <th>3</th>\n",
       "      <td>1226653.0</td>\n",
       "      <td>(31.273767, 121.222048)</td>\n",
       "    </tr>\n",
       "    <tr>\n",
       "      <th>4</th>\n",
       "      <td>43973.0</td>\n",
       "      <td>(31.266413, 121.351003)</td>\n",
       "    </tr>\n",
       "    <tr>\n",
       "      <th>...</th>\n",
       "      <td>...</td>\n",
       "      <td>...</td>\n",
       "    </tr>\n",
       "    <tr>\n",
       "      <th>195</th>\n",
       "      <td>1411038.0</td>\n",
       "      <td>(31.220809, 121.305363)</td>\n",
       "    </tr>\n",
       "    <tr>\n",
       "      <th>196</th>\n",
       "      <td>218974.0</td>\n",
       "      <td>(31.231585, 121.517218)</td>\n",
       "    </tr>\n",
       "    <tr>\n",
       "      <th>197</th>\n",
       "      <td>10000.0</td>\n",
       "      <td>(31.21176, 121.45331)</td>\n",
       "    </tr>\n",
       "    <tr>\n",
       "      <th>198</th>\n",
       "      <td>15399.0</td>\n",
       "      <td>(31.203742, 121.461251)</td>\n",
       "    </tr>\n",
       "    <tr>\n",
       "      <th>199</th>\n",
       "      <td>18310.0</td>\n",
       "      <td>(31.238839, 121.438593)</td>\n",
       "    </tr>\n",
       "  </tbody>\n",
       "</table>\n",
       "<p>200 rows × 2 columns</p>\n",
       "</div>"
      ],
      "text/plain": [
       "     Durations Combined_longitude_latitude\n",
       "0     624728.0     (31.260165, 121.541462)\n",
       "1       3353.0     (31.152571, 121.412981)\n",
       "2     396751.0     (30.905367, 121.832974)\n",
       "3    1226653.0     (31.273767, 121.222048)\n",
       "4      43973.0     (31.266413, 121.351003)\n",
       "..         ...                         ...\n",
       "195  1411038.0     (31.220809, 121.305363)\n",
       "196   218974.0     (31.231585, 121.517218)\n",
       "197    10000.0       (31.21176, 121.45331)\n",
       "198    15399.0     (31.203742, 121.461251)\n",
       "199    18310.0     (31.238839, 121.438593)\n",
       "\n",
       "[200 rows x 2 columns]"
      ]
     },
     "execution_count": 7,
     "metadata": {},
     "output_type": "execute_result"
    }
   ],
   "source": [
    "n=int(input(\"enter the total no of base_stations in the dataframe required for sampling \"))\n",
    "df3=df2.sample(n)\n",
    "df3=df3.reset_index(drop=True)\n",
    "df3\n"
   ]
  },
  {
   "cell_type": "markdown",
   "metadata": {},
   "source": [
    "## Random Approach"
   ]
  },
  {
   "cell_type": "code",
   "execution_count": 8,
   "metadata": {},
   "outputs": [],
   "source": [
    "def random_approach(server_count,df3):\n",
    "    df3=df3.reset_index(drop=True)\n",
    "    #print(df3)\n",
    "    #print(len(df3))\n",
    "    closest_server_arr=[]\n",
    "    for index_of_base_station in range(len(df3)):\n",
    "        closest_server=0\n",
    "        minimum_dist=np.inf\n",
    "        for server in range(server_count):\n",
    "            dist1=distance.distance(df3.iloc[index_of_base_station][\"Combined_longitude_latitude\"],df3.iloc[server][\"Combined_longitude_latitude\"]).km\n",
    "            if(dist1<minimum_dist):\n",
    "                minimum_dist=dist1\n",
    "                closest_server=server\n",
    "        closest_server_arr.append(closest_server)\n",
    "    return (closest_server_arr)\n",
    "\n",
    "\n",
    "def AccessDelay(closest_server_arr,df3):\n",
    "    #print(len(closest_server_arr))\n",
    "    # it must be equal to the length of dframe i.e each base station has chosen its nearest edgeserver.\n",
    "    \n",
    "    #but edge servers are placed near base station itself . so we are idirectly comparing DISTANCE between 2 B.STATION\n",
    "    access_delay=0\n",
    "    i=0\n",
    "    for closest_server in closest_server_arr:\n",
    "        access_delay+=distance.distance(df3.iloc[closest_server][\"Combined_longitude_latitude\"],df3.iloc[i][\"Combined_longitude_latitude\"]).km\n",
    "        i+=1\n",
    "    return access_delay\n",
    "    \n",
    "\n",
    "\n",
    "    \"\"\"OR for each of the base syation from 1 to n, each has chosen its nearest edge server for which the distance is calculated and \n",
    "     added iteratively to finds the overall access delay for given set of edge server count\"\"\"\n",
    "\n",
    "#      for i in range(len(df3)):\n",
    "#             access_delay+=distance.distance(df3.iloc[closest_server[i]][\"Combined_longitude_latitude\"],df3.iloc[i][\"Combined_longitude_latitude\"]).km\n",
    "#      return access_delay\n",
    "\n",
    "\n",
    "def Workload_balance(closest_server_arr,df3):\n",
    "    edge_servers=dict.fromkeys(closest_server_arr,0)\n",
    "    \"\"\"# edge_servers contains all the closest servers arranged in dictionary format where each of the edge server acts as key with value pair as \"0\" \"\"\"\n",
    "    \"\"\"i.e an array of closest edge servers converted to dictionary\"\"\"\n",
    "    for index,row in df3.iterrows():\n",
    "        edge_servers[closest_server_arr[index]] +=  row[\"Durations\"]\n",
    "    total = 0\n",
    "    mean = sum(edge_servers.values())/len(edge_servers)\n",
    "    for key,value in edge_servers.items():\n",
    "        total += (value - mean)**2\n",
    "    return np.sqrt(total/len(edge_servers))\n",
    "    "
   ]
  },
  {
   "cell_type": "markdown",
   "metadata": {},
   "source": [
    "### Main function"
   ]
  },
  {
   "cell_type": "code",
   "execution_count": 11,
   "metadata": {},
   "outputs": [],
   "source": [
    "def main():\n",
    "    server_counts=[]\n",
    "    ADSol_Arr,WBSol_Arr=[],[]\n",
    "    server_count_set=int(input(\"enter the value of server count set.\"))\n",
    "    # indicates the length of the server_count_set\n",
    "    random_array=list(np.random.randint(4,n/2,server_count_set))\n",
    "    print(random_array,\"server_count_set\")\n",
    "    for server_count in random_array:\n",
    "        print(server_count,\"server count\")\n",
    "        closest_server_arr=random_approach(server_count,df3)\n",
    "        \n",
    "        ##perfrom calculation of access delay\n",
    "        ADSol_Arr.append(AccessDelay(closest_server_arr,df3))\n",
    "        \n",
    "        # perfrom worklaod balance for given set of servers\n",
    "        WBSol_Arr.append(Workload_balance(closest_server_arr,df3))\n",
    "        \n",
    "        server_counts.append(server_count)\n",
    "    #mpl.figure()\n",
    "    \"\"\"Plotting of Access delay \"\"\"\n",
    "    mpl.scatter(server_counts,ADSol_Arr)\n",
    "    mpl.xlabel(\"set of edge servers considered\")\n",
    "    mpl.ylabel(\"Access delay \")\n",
    "    mpl.show()\n",
    "    #print(ADSol_Arr)\n",
    "    \"\"\"Averaging access delay and minimum access delay of all the lot\"\"\"\n",
    "    Average_access_delay=(sum(ADSol_Arr)/len(ADSol_Arr))\n",
    "    print(f\"Average access delay for given  set of server_count in a server set is {Average_access_delay}\")\n",
    "    print()\n",
    "    \n",
    "    Access_delay_dictionary=dict(zip(ADSol_Arr,server_counts))\n",
    "    minimum_access_delay=min(Access_delay_dictionary.keys())\n",
    "    print(f\"Minimum access delay for given set of servers {Access_delay_dictionary[minimum_access_delay]} is {minimum_access_delay}\")\n",
    "    print()\n",
    "    \n",
    "    #print(server_counts)\n",
    "    \n",
    "    \"\"\"plotting for Workload balance\"\"\"\n",
    "    mpl.scatter(server_counts,WBSol_Arr)\n",
    "    mpl.xlabel(\"set of edge servers considered\")\n",
    "    mpl.ylabel(\" WLB\")\n",
    "    mpl.show()                                                                            \n",
    "   # print(WBSol_Arr)\n",
    "    \n",
    "    \"\"\"Averaging Workload balance and minimum access delay of all the lot\"\"\"\n",
    "    \n",
    "    Average_Workload_balance=(sum(WBSol_Arr)/len(WBSol_Arr))\n",
    "    print(f\"Average workload balance for given  set of server_count in a server set is {Average_Workload_balance}\")\n",
    "    print() \n",
    "    Workload_Balance_dictionary=dict(zip(WBSol_Arr,server_counts))\n",
    "    minimum_Workload_Balance=min(Workload_Balance_dictionary.keys())\n",
    "    print(f\"Minimum Workload balance for given set of servers {Workload_Balance_dictionary[minimum_Workload_Balance]} is {minimum_Workload_Balance}\")\n",
    "    print()\n",
    "   \n"
   ]
  },
  {
   "cell_type": "code",
   "execution_count": 12,
   "metadata": {},
   "outputs": [
    {
     "name": "stdout",
     "output_type": "stream",
     "text": [
      "enter the value of server count set.10\n",
      "[21, 18, 63, 42, 97, 45, 70, 26, 68, 66] server_count_set\n",
      "21 server count\n",
      "18 server count\n",
      "63 server count\n",
      "42 server count\n",
      "97 server count\n",
      "45 server count\n",
      "70 server count\n",
      "26 server count\n",
      "68 server count\n",
      "66 server count\n"
     ]
    },
    {
     "data": {
      "image/png": "[encoded data removed]",
      "text/plain": [
       "<Figure size 432x288 with 1 Axes>"
      ]
     },
     "metadata": {
      "needs_background": "light"
     },
     "output_type": "display_data"
    },
    {
     "name": "stdout",
     "output_type": "stream",
     "text": [
      "Average access delay for given  set of server_count in a server set is 2082.607142749656\n",
      "\n",
      "Minimum access delay for given set of servers 97 is 671.4542946767586\n",
      "\n"
     ]
    },
    {
     "data": {
      "image/png": "[encoded data removed]",
      "text/plain": [
       "<Figure size 432x288 with 1 Axes>"
      ]
     },
     "metadata": {
      "needs_background": "light"
     },
     "output_type": "display_data"
    },
    {
     "name": "stdout",
     "output_type": "stream",
     "text": [
      "Average workload balance for given  set of server_count in a server set is 2034831.599378433\n",
      "\n",
      "Minimum Workload balance for given set of servers 97 is 1080499.8642784897\n",
      "\n"
     ]
    }
   ],
   "source": [
    "main()"
   ]
  },
  {
   "cell_type": "code",
   "execution_count": null,
   "metadata": {},
   "outputs": [],
   "source": []
  },
  {
   "cell_type": "code",
   "execution_count": null,
   "metadata": {},
   "outputs": [],
   "source": []
  },
  {
   "cell_type": "code",
   "execution_count": null,
   "metadata": {},
   "outputs": [],
   "source": []
  },
  {
   "cell_type": "code",
   "execution_count": null,
   "metadata": {},
   "outputs": [],
   "source": []
  },
  {
   "cell_type": "code",
   "execution_count": null,
   "metadata": {},
   "outputs": [],
   "source": []
  }
 ],
 "metadata": {
  "kernelspec": {
   "display_name": "Python 3",
   "language": "python",
   "name": "python3"
  },
  "language_info": {
   "codemirror_mode": {
    "name": "ipython",
    "version": 3
   },
   "file_extension": ".py",
   "mimetype": "text/x-python",
   "name": "python",
   "nbconvert_exporter": "python",
   "pygments_lexer": "ipython3",
   "version": "3.8.5"
  }
 },
 "nbformat": 4,
 "nbformat_minor": 4
}
